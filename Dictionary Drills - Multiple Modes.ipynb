{
 "cells": [
  {
   "cell_type": "markdown",
   "metadata": {},
   "source": [
    "You probably know that the \"mode\" of a set of data is the data point that appears most frequently. Looking at the characters that make up the string \"sarsaparilla\" we can see that the letter \"a\" appears four times, more than any other letter, so the mode of \"sarsaparilla\" is \"a\".\n",
    "\n",
    "But do you know what happens when two or more data points occur the most? For example, what is the mode of the letters in \"tomato\"? Both \"t\" and \"o\" seem to be tied for appearing most frequently.\n",
    "\n",
    "Turns out that a set of data can, in fact, have multiple modes, so \"tomato\" has two modes: \"t\" and \"o\". It's important to note, though, that if all data appears the same number of times there is no mode. So \"cat\", \"redder\", and [1, 2, 3, 4, 5] do not have a mode.\n",
    "\n",
    "Your job is to write a function modes() that will accept one argument data that is a sequence like a string or a list of numbers and return a sorted list containing the mode(s) of the input sequence. If data does not contain a mode you should return an empty list.\n",
    "\n",
    "For example:\n",
    "\n",
    ">>> modes(\"tomato\")\n",
    "[\"o\", \"t\"]\n",
    ">>> modes([1, 3, 3, 7])\n",
    "[3]\n",
    ">>> modes([\"redder\"])\n",
    "[]\n",
    "You can trust that your input data will always be a sequence and will always contain orderable types (no inputs like [1, 2, 2, \"a\", \"b\", \"b\"])."
   ]
  },
  {
   "cell_type": "code",
   "execution_count": 2,
   "metadata": {},
   "outputs": [],
   "source": [
    "def modes(data):\n",
    "\n",
    "    # Empty dict we'll use to store item counts.\n",
    "    counts = {}\n",
    "\n",
    "    # Populate the dict.\n",
    "    for value in data:\n",
    "        if value in counts:\n",
    "            counts[value] += 1\n",
    "        else:\n",
    "            counts[value] = 1\n",
    "\n",
    "    # Find the number of times the mode appears.\n",
    "    max_occurrence = max(counts.values())\n",
    "\n",
    "    # Short-circuit if there is no mode.\n",
    "    min_occurrence = min(counts.values())\n",
    "    if max_occurrence == min_occurrence:\n",
    "        return []\n",
    "\n",
    "    # Initialize an empty list to populate and return.\n",
    "    result = []\n",
    "    for key in counts.keys():\n",
    "        if counts[key] == max_occurrence:\n",
    "            result.append(key)\n",
    "\n",
    "    return sorted(result)"
   ]
  },
  {
   "cell_type": "code",
   "execution_count": null,
   "metadata": {},
   "outputs": [],
   "source": []
  }
 ],
 "metadata": {
  "kernelspec": {
   "display_name": "Python 3",
   "language": "python",
   "name": "python3"
  },
  "language_info": {
   "codemirror_mode": {
    "name": "ipython",
    "version": 3
   },
   "file_extension": ".py",
   "mimetype": "text/x-python",
   "name": "python",
   "nbconvert_exporter": "python",
   "pygments_lexer": "ipython3",
   "version": "3.6.5"
  }
 },
 "nbformat": 4,
 "nbformat_minor": 2
}

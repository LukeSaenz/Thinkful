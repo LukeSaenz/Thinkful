{
 "cells": [
  {
   "cell_type": "markdown",
   "metadata": {},
   "source": [
    "You're modelling the interaction between a large number of quarks and have decided to create a Quark class so you can generate your own quark objects.\n",
    "\n",
    "Quarks are fundamental particles and the only fundamental particle to experience all four fundamental forces.\n",
    "\n",
    "Your task\n",
    "Your Quark class should allow you to create quarks of any valid color (\"red\", \"blue\", and \"green\") and any valid flavor ('up', 'down', 'strange', 'charm', 'top', and 'bottom').\n",
    "\n",
    "Every quark has the same baryon_number (BaryonNumber in C#): 1/3.\n",
    "\n",
    "Every quark should have an .interact() (.Interact() in C#) method that allows any quark to interact with another quark via the strong force. When two quarks interact they exchange colors.\n",
    "\n",
    "Example\n",
    ">>> q1 = Quark(\"red\", \"up\")\n",
    ">>> q1.color\n",
    "\"red\"\n",
    ">>> q1.flavor\n",
    "\"up\"\n",
    ">>> q2 = Quark(\"blue\", \"strange\")\n",
    ">>> q2.color\n",
    "\"blue\"\n",
    ">>> q2.baryon_number\n",
    "0.3333333333333333\n",
    ">>> q1.interact(q2)\n",
    ">>> q1.color\n",
    "\"blue\"\n",
    ">>> q2.color\n",
    "\"red\""
   ]
  },
  {
   "cell_type": "code",
   "execution_count": 1,
   "metadata": {},
   "outputs": [],
   "source": [
    "#start definition of a class, name that class, specify a subclass\n",
    "class Quark(object):\n",
    "\n",
    "#Set color and flavor attributes:    \n",
    "    def __init__(self, color, flavor):\n",
    "        self.color = color\n",
    "        self.flavor = flavor\n",
    "\n",
    "#baryon number is a constant, so it's set outside the init function\n",
    "    baryon_number = 1/3\n",
    "\n",
    "#set the way Quarks interact with one another\n",
    "    def interact(self, other_quark):\n",
    "        self.color, other_quark.color = other_quark.color, self.color\n",
    "        \n",
    "#this method controls how the result is printed\n",
    "    def __repr__(self):\n",
    "        return \"{} {} quark\".format(self.color, self.flavor)"
   ]
  },
  {
   "cell_type": "code",
   "execution_count": null,
   "metadata": {},
   "outputs": [],
   "source": []
  }
 ],
 "metadata": {
  "kernelspec": {
   "display_name": "Python 3",
   "language": "python",
   "name": "python3"
  },
  "language_info": {
   "codemirror_mode": {
    "name": "ipython",
    "version": 3
   },
   "file_extension": ".py",
   "mimetype": "text/x-python",
   "name": "python",
   "nbconvert_exporter": "python",
   "pygments_lexer": "ipython3",
   "version": "3.6.5"
  }
 },
 "nbformat": 4,
 "nbformat_minor": 2
}

{
 "cells": [
  {
   "cell_type": "markdown",
   "metadata": {},
   "source": [
    "You and a friend have decided to play a game to drill your statistical intuitions. The game works like this:\n",
    "\n",
    "You have a bunch of red and blue marbles. To start the game you grab a handful of marbles of each color and put them into the bag, keeping track of how many of each color go in. You take turns reaching into the bag, guessing a color, and then pulling one marble out. You get a point if you guessed correctly. The trick is you only have three seconds to make your guess, so you have to think quickly.\n",
    "\n",
    "You've decided to write a function, guess_blue() to help automatically calculate whether you should guess \"blue\" or \"red\". The function should take four arguments:\n",
    "\n",
    "the number of blue marbles you put in the bag to start\n",
    "the number of red marbles you put in the bag to start\n",
    "the number of blue marbles pulled out so far, and\n",
    "the number of red marbles pulled out so far.\n",
    "guess_blue() should return the probability of drawing a blue marble, expressed as a float. For example, guess_blue(5, 5, 2, 3) should return 0.6."
   ]
  },
  {
   "cell_type": "code",
   "execution_count": 1,
   "metadata": {},
   "outputs": [],
   "source": [
    "def guess_blue(blue_start, red_start, blue_pulled, red_pulled):\n",
    "    blue_left = blue_start - blue_pulled\n",
    "    red_left = red_start - red_pulled\n",
    "    return blue_left / (blue_left + red_left)"
   ]
  },
  {
   "cell_type": "code",
   "execution_count": null,
   "metadata": {},
   "outputs": [],
   "source": []
  }
 ],
 "metadata": {
  "kernelspec": {
   "display_name": "Python 3",
   "language": "python",
   "name": "python3"
  },
  "language_info": {
   "codemirror_mode": {
    "name": "ipython",
    "version": 3
   },
   "file_extension": ".py",
   "mimetype": "text/x-python",
   "name": "python",
   "nbconvert_exporter": "python",
   "pygments_lexer": "ipython3",
   "version": "3.6.5"
  }
 },
 "nbformat": 4,
 "nbformat_minor": 2
}

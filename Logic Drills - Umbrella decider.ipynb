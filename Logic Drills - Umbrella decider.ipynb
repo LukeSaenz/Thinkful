{
 "cells": [
  {
   "cell_type": "markdown",
   "metadata": {},
   "source": [
    "Write a function take_umbrella() that takes two arguments: a string representing the current weather and a float representing the chance of rain today.\n",
    "\n",
    "Your function should return True or False based on the following criteria.\n",
    "\n",
    "You should take an umbrella if it's currently raining or if it's cloudy and the chance of rain is over 0.20.\n",
    "You shouldn't take an umbrella if it's sunny unless it's more likely to rain than not.\n",
    "The options for the current weather are sunny, cloudy, and rainy.\n",
    "\n",
    "For example, take_umbrella('sunny', 0.40) should return False.\n",
    "\n",
    "As an additional challenge, consider solving this kata using only logical operaters and not using any if statements."
   ]
  },
  {
   "cell_type": "code",
   "execution_count": 1,
   "metadata": {},
   "outputs": [],
   "source": [
    "def take_umbrella(weather, rain_chance):\n",
    "    if weather == 'sunny' and rain_chance < 0.5:\n",
    "        return 0\n",
    "    elif weather == 'cloudy' and rain_chance <= 0.2:\n",
    "        return 0\n",
    "    else:\n",
    "        return 1"
   ]
  },
  {
   "cell_type": "code",
   "execution_count": null,
   "metadata": {},
   "outputs": [],
   "source": []
  }
 ],
 "metadata": {
  "kernelspec": {
   "display_name": "Python 3",
   "language": "python",
   "name": "python3"
  },
  "language_info": {
   "codemirror_mode": {
    "name": "ipython",
    "version": 3
   },
   "file_extension": ".py",
   "mimetype": "text/x-python",
   "name": "python",
   "nbconvert_exporter": "python",
   "pygments_lexer": "ipython3",
   "version": "3.6.5"
  }
 },
 "nbformat": 4,
 "nbformat_minor": 2
}

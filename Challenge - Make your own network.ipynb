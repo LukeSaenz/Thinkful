{
 "cells": [
  {
   "cell_type": "markdown",
   "metadata": {},
   "source": [
    "#### Create a multi-layer perceptron neural network model to predict on a labeled dataset of your choosing. Compare this model to either a boosted tree or a random forest model and describe the relative tradeoffs between complexity and accuracy. Be sure to vary the hyperparameters of your MLP!"
   ]
  },
  {
   "cell_type": "code",
   "execution_count": 1,
   "metadata": {},
   "outputs": [],
   "source": [
    "import numpy as np\n",
    "import pandas as pd\n",
    "import matplotlib.pyplot as plt\n",
    "import seaborn as sns\n",
    "\n",
    "from sklearn import ensemble\n",
    "from sklearn import datasets\n",
    "from sklearn.utils import shuffle\n",
    "\n",
    "from sklearn.metrics import make_scorer, mean_squared_error\n",
    "\n",
    "from sklearn.neural_network import MLPRegressor\n",
    "\n",
    "%matplotlib inline"
   ]
  },
  {
   "cell_type": "code",
   "execution_count": 2,
   "metadata": {},
   "outputs": [],
   "source": [
    "df = pd.read_csv('NFL_2018_PASSING_MASTER.csv')"
   ]
  },
  {
   "cell_type": "code",
   "execution_count": 3,
   "metadata": {},
   "outputs": [
    {
     "data": {
      "text/html": [
       "<div>\n",
       "<style scoped>\n",
       "    .dataframe tbody tr th:only-of-type {\n",
       "        vertical-align: middle;\n",
       "    }\n",
       "\n",
       "    .dataframe tbody tr th {\n",
       "        vertical-align: top;\n",
       "    }\n",
       "\n",
       "    .dataframe thead th {\n",
       "        text-align: right;\n",
       "    }\n",
       "</style>\n",
       "<table border=\"1\" class=\"dataframe\">\n",
       "  <thead>\n",
       "    <tr style=\"text-align: right;\">\n",
       "      <th></th>\n",
       "      <th>Rk</th>\n",
       "      <th>Player</th>\n",
       "      <th>Pos</th>\n",
       "      <th>Age</th>\n",
       "      <th>Lg</th>\n",
       "      <th>Tm</th>\n",
       "      <th>Opp</th>\n",
       "      <th>Home_Tm</th>\n",
       "      <th>Result</th>\n",
       "      <th>Points_for</th>\n",
       "      <th>...</th>\n",
       "      <th>Att</th>\n",
       "      <th>Cmp%</th>\n",
       "      <th>Yds</th>\n",
       "      <th>TD</th>\n",
       "      <th>Int</th>\n",
       "      <th>Rate</th>\n",
       "      <th>Sk</th>\n",
       "      <th>Yds.1</th>\n",
       "      <th>Y/A</th>\n",
       "      <th>AY/A</th>\n",
       "    </tr>\n",
       "  </thead>\n",
       "  <tbody>\n",
       "    <tr>\n",
       "      <th>0</th>\n",
       "      <td>1</td>\n",
       "      <td>Ryan Fitzpatrick</td>\n",
       "      <td>QB</td>\n",
       "      <td>35.289</td>\n",
       "      <td>NFL</td>\n",
       "      <td>TAM</td>\n",
       "      <td>NOR</td>\n",
       "      <td>NOR</td>\n",
       "      <td>W</td>\n",
       "      <td>48</td>\n",
       "      <td>...</td>\n",
       "      <td>28</td>\n",
       "      <td>75.00</td>\n",
       "      <td>417</td>\n",
       "      <td>4</td>\n",
       "      <td>0</td>\n",
       "      <td>156.2</td>\n",
       "      <td>0</td>\n",
       "      <td>0</td>\n",
       "      <td>14.89</td>\n",
       "      <td>17.75</td>\n",
       "    </tr>\n",
       "    <tr>\n",
       "      <th>1</th>\n",
       "      <td>2</td>\n",
       "      <td>Aaron Rodgers</td>\n",
       "      <td>QB</td>\n",
       "      <td>34.281</td>\n",
       "      <td>NFL</td>\n",
       "      <td>GNB</td>\n",
       "      <td>CHI</td>\n",
       "      <td>GNB</td>\n",
       "      <td>W</td>\n",
       "      <td>24</td>\n",
       "      <td>...</td>\n",
       "      <td>30</td>\n",
       "      <td>66.67</td>\n",
       "      <td>286</td>\n",
       "      <td>3</td>\n",
       "      <td>0</td>\n",
       "      <td>130.7</td>\n",
       "      <td>2</td>\n",
       "      <td>19</td>\n",
       "      <td>9.53</td>\n",
       "      <td>11.53</td>\n",
       "    </tr>\n",
       "    <tr>\n",
       "      <th>2</th>\n",
       "      <td>3</td>\n",
       "      <td>Drew Brees</td>\n",
       "      <td>QB</td>\n",
       "      <td>39.237</td>\n",
       "      <td>NFL</td>\n",
       "      <td>NOR</td>\n",
       "      <td>TAM</td>\n",
       "      <td>NOR</td>\n",
       "      <td>L</td>\n",
       "      <td>40</td>\n",
       "      <td>...</td>\n",
       "      <td>45</td>\n",
       "      <td>82.22</td>\n",
       "      <td>439</td>\n",
       "      <td>3</td>\n",
       "      <td>0</td>\n",
       "      <td>129.5</td>\n",
       "      <td>1</td>\n",
       "      <td>7</td>\n",
       "      <td>9.76</td>\n",
       "      <td>11.09</td>\n",
       "    </tr>\n",
       "    <tr>\n",
       "      <th>3</th>\n",
       "      <td>4</td>\n",
       "      <td>Patrick Mahomes</td>\n",
       "      <td>QB</td>\n",
       "      <td>22.357</td>\n",
       "      <td>NFL</td>\n",
       "      <td>KAN</td>\n",
       "      <td>LAC</td>\n",
       "      <td>LAC</td>\n",
       "      <td>W</td>\n",
       "      <td>38</td>\n",
       "      <td>...</td>\n",
       "      <td>27</td>\n",
       "      <td>55.56</td>\n",
       "      <td>256</td>\n",
       "      <td>4</td>\n",
       "      <td>0</td>\n",
       "      <td>127.5</td>\n",
       "      <td>1</td>\n",
       "      <td>0</td>\n",
       "      <td>9.48</td>\n",
       "      <td>12.44</td>\n",
       "    </tr>\n",
       "    <tr>\n",
       "      <th>4</th>\n",
       "      <td>5</td>\n",
       "      <td>Joe Flacco</td>\n",
       "      <td>QB</td>\n",
       "      <td>33.236</td>\n",
       "      <td>NFL</td>\n",
       "      <td>BAL</td>\n",
       "      <td>BUF</td>\n",
       "      <td>BAL</td>\n",
       "      <td>W</td>\n",
       "      <td>47</td>\n",
       "      <td>...</td>\n",
       "      <td>34</td>\n",
       "      <td>73.53</td>\n",
       "      <td>236</td>\n",
       "      <td>3</td>\n",
       "      <td>0</td>\n",
       "      <td>121.7</td>\n",
       "      <td>1</td>\n",
       "      <td>0</td>\n",
       "      <td>6.94</td>\n",
       "      <td>8.71</td>\n",
       "    </tr>\n",
       "  </tbody>\n",
       "</table>\n",
       "<p>5 rows × 25 columns</p>\n",
       "</div>"
      ],
      "text/plain": [
       "   Rk            Player Pos     Age   Lg   Tm  Opp Home_Tm Result  Points_for  \\\n",
       "0   1  Ryan Fitzpatrick  QB  35.289  NFL  TAM  NOR     NOR      W          48   \n",
       "1   2     Aaron Rodgers  QB  34.281  NFL  GNB  CHI     GNB      W          24   \n",
       "2   3        Drew Brees  QB  39.237  NFL  NOR  TAM     NOR      L          40   \n",
       "3   4   Patrick Mahomes  QB  22.357  NFL  KAN  LAC     LAC      W          38   \n",
       "4   5        Joe Flacco  QB  33.236  NFL  BAL  BUF     BAL      W          47   \n",
       "\n",
       "   ...    Att   Cmp%  Yds TD  Int   Rate  Sk  Yds.1    Y/A   AY/A  \n",
       "0  ...     28  75.00  417  4    0  156.2   0      0  14.89  17.75  \n",
       "1  ...     30  66.67  286  3    0  130.7   2     19   9.53  11.53  \n",
       "2  ...     45  82.22  439  3    0  129.5   1      7   9.76  11.09  \n",
       "3  ...     27  55.56  256  4    0  127.5   1      0   9.48  12.44  \n",
       "4  ...     34  73.53  236  3    0  121.7   1      0   6.94   8.71  \n",
       "\n",
       "[5 rows x 25 columns]"
      ]
     },
     "execution_count": 3,
     "metadata": {},
     "output_type": "execute_result"
    }
   ],
   "source": [
    "df.head()"
   ]
  },
  {
   "cell_type": "code",
   "execution_count": 5,
   "metadata": {},
   "outputs": [
    {
     "data": {
      "text/plain": [
       "(622, 25)"
      ]
     },
     "execution_count": 5,
     "metadata": {},
     "output_type": "execute_result"
    }
   ],
   "source": [
    "df.shape"
   ]
  },
  {
   "cell_type": "code",
   "execution_count": 6,
   "metadata": {},
   "outputs": [],
   "source": [
    "df = df[df['Pos'] == 'QB']"
   ]
  },
  {
   "cell_type": "code",
   "execution_count": 7,
   "metadata": {},
   "outputs": [
    {
     "data": {
      "text/plain": [
       "(574, 25)"
      ]
     },
     "execution_count": 7,
     "metadata": {},
     "output_type": "execute_result"
    }
   ],
   "source": [
    "df.shape"
   ]
  },
  {
   "cell_type": "code",
   "execution_count": 8,
   "metadata": {},
   "outputs": [],
   "source": [
    "df = df[df['Att'] > 10]"
   ]
  },
  {
   "cell_type": "code",
   "execution_count": 10,
   "metadata": {},
   "outputs": [
    {
     "data": {
      "text/plain": [
       "(527, 25)"
      ]
     },
     "execution_count": 10,
     "metadata": {},
     "output_type": "execute_result"
    }
   ],
   "source": [
    "df.shape"
   ]
  },
  {
   "cell_type": "code",
   "execution_count": 12,
   "metadata": {},
   "outputs": [
    {
     "data": {
      "image/png": "[encoded data removed]",
      "text/plain": [
       "<Figure size 1080x576 with 2 Axes>"
      ]
     },
     "metadata": {},
     "output_type": "display_data"
    }
   ],
   "source": [
    "f,ax = plt.subplots(figsize=(15,8))\n",
    "sns.heatmap(df.corr(), annot=True, linewidths=.2, fmt='.1f', ax=ax)\n",
    "plt.show()"
   ]
  },
  {
   "cell_type": "markdown",
   "metadata": {},
   "source": [
    "## Random Forest"
   ]
  },
  {
   "cell_type": "code",
   "execution_count": 15,
   "metadata": {},
   "outputs": [
    {
     "data": {
      "text/html": [
       "<div>\n",
       "<style scoped>\n",
       "    .dataframe tbody tr th:only-of-type {\n",
       "        vertical-align: middle;\n",
       "    }\n",
       "\n",
       "    .dataframe tbody tr th {\n",
       "        vertical-align: top;\n",
       "    }\n",
       "\n",
       "    .dataframe thead th {\n",
       "        text-align: right;\n",
       "    }\n",
       "</style>\n",
       "<table border=\"1\" class=\"dataframe\">\n",
       "  <thead>\n",
       "    <tr style=\"text-align: right;\">\n",
       "      <th></th>\n",
       "      <th>Age</th>\n",
       "      <th>Points_for</th>\n",
       "      <th>Points_against</th>\n",
       "      <th>Week</th>\n",
       "      <th>Att</th>\n",
       "      <th>Cmp%</th>\n",
       "      <th>Yds</th>\n",
       "      <th>Int</th>\n",
       "      <th>Rate</th>\n",
       "      <th>Sk</th>\n",
       "      <th>Y/A</th>\n",
       "    </tr>\n",
       "  </thead>\n",
       "  <tbody>\n",
       "    <tr>\n",
       "      <th>0</th>\n",
       "      <td>35.289</td>\n",
       "      <td>48</td>\n",
       "      <td>40</td>\n",
       "      <td>1</td>\n",
       "      <td>28</td>\n",
       "      <td>75.00</td>\n",
       "      <td>417</td>\n",
       "      <td>0</td>\n",
       "      <td>156.2</td>\n",
       "      <td>0</td>\n",
       "      <td>14.89</td>\n",
       "    </tr>\n",
       "    <tr>\n",
       "      <th>1</th>\n",
       "      <td>34.281</td>\n",
       "      <td>24</td>\n",
       "      <td>23</td>\n",
       "      <td>1</td>\n",
       "      <td>30</td>\n",
       "      <td>66.67</td>\n",
       "      <td>286</td>\n",
       "      <td>0</td>\n",
       "      <td>130.7</td>\n",
       "      <td>2</td>\n",
       "      <td>9.53</td>\n",
       "    </tr>\n",
       "    <tr>\n",
       "      <th>2</th>\n",
       "      <td>39.237</td>\n",
       "      <td>40</td>\n",
       "      <td>48</td>\n",
       "      <td>1</td>\n",
       "      <td>45</td>\n",
       "      <td>82.22</td>\n",
       "      <td>439</td>\n",
       "      <td>0</td>\n",
       "      <td>129.5</td>\n",
       "      <td>1</td>\n",
       "      <td>9.76</td>\n",
       "    </tr>\n",
       "    <tr>\n",
       "      <th>3</th>\n",
       "      <td>22.357</td>\n",
       "      <td>38</td>\n",
       "      <td>28</td>\n",
       "      <td>1</td>\n",
       "      <td>27</td>\n",
       "      <td>55.56</td>\n",
       "      <td>256</td>\n",
       "      <td>0</td>\n",
       "      <td>127.5</td>\n",
       "      <td>1</td>\n",
       "      <td>9.48</td>\n",
       "    </tr>\n",
       "    <tr>\n",
       "      <th>4</th>\n",
       "      <td>33.236</td>\n",
       "      <td>47</td>\n",
       "      <td>3</td>\n",
       "      <td>1</td>\n",
       "      <td>34</td>\n",
       "      <td>73.53</td>\n",
       "      <td>236</td>\n",
       "      <td>0</td>\n",
       "      <td>121.7</td>\n",
       "      <td>1</td>\n",
       "      <td>6.94</td>\n",
       "    </tr>\n",
       "  </tbody>\n",
       "</table>\n",
       "</div>"
      ],
      "text/plain": [
       "      Age  Points_for  Points_against  Week  Att   Cmp%  Yds  Int   Rate  Sk  \\\n",
       "0  35.289          48              40     1   28  75.00  417    0  156.2   0   \n",
       "1  34.281          24              23     1   30  66.67  286    0  130.7   2   \n",
       "2  39.237          40              48     1   45  82.22  439    0  129.5   1   \n",
       "3  22.357          38              28     1   27  55.56  256    0  127.5   1   \n",
       "4  33.236          47               3     1   34  73.53  236    0  121.7   1   \n",
       "\n",
       "     Y/A  \n",
       "0  14.89  \n",
       "1   9.53  \n",
       "2   9.76  \n",
       "3   9.48  \n",
       "4   6.94  "
      ]
     },
     "execution_count": 15,
     "metadata": {},
     "output_type": "execute_result"
    }
   ],
   "source": [
    "features = df[['Age', 'Points_for', 'Points_against', 'Week', 'Att',\n",
    "               'Cmp%', 'Yds', 'Int', 'Rate', 'Sk', 'Y/A']]\n",
    "\n",
    "features.head()"
   ]
  },
  {
   "cell_type": "code",
   "execution_count": 20,
   "metadata": {},
   "outputs": [
    {
     "name": "stdout",
     "output_type": "stream",
     "text": [
      "[0.41233412 0.16289655 0.40373686 0.19215635 0.41760459]\n",
      "Accuracy: 0.32 (+/- 0.23)\n"
     ]
    }
   ],
   "source": [
    "from sklearn.ensemble import RandomForestRegressor\n",
    "\n",
    "rfr = ensemble.RandomForestRegressor(n_estimators=500)\n",
    "\n",
    "X = features[['Age', 'Points_against', 'Week', 'Att',\n",
    "              'Cmp%', 'Yds', 'Int', 'Sk', 'Y/A']]\n",
    "Y = df['TD']\n",
    "\n",
    "from sklearn.model_selection import cross_val_score\n",
    "\n",
    "score = cross_val_score(rfr, X, Y, cv=5)\n",
    "print(score)\n",
    "print('Accuracy: %0.2f (+/- %0.2f)' % (score.mean(), score.std() * 2))"
   ]
  },
  {
   "cell_type": "code",
   "execution_count": 21,
   "metadata": {},
   "outputs": [
    {
     "name": "stdout",
     "output_type": "stream",
     "text": [
      "[0.37497108 0.17641201 0.37872163 0.1959255  0.41815903]\n",
      "Accuracy: 0.31 (+/- 0.20)\n"
     ]
    }
   ],
   "source": [
    "# Trying to increase the estimators and changing criterion to 'mae' to see how it impacts the result\n",
    "rfr = ensemble.RandomForestRegressor(n_estimators=1000, criterion='mae')\n",
    "\n",
    "X = features[['Age', 'Points_against', 'Week', 'Att',\n",
    "              'Cmp%', 'Yds', 'Int', 'Sk', 'Y/A']]\n",
    "Y = df['TD']\n",
    "\n",
    "score = cross_val_score(rfr, X, Y, cv=5)\n",
    "print(score)\n",
    "print('Accuracy: %0.2f (+/- %0.2f)' % (score.mean(), score.std() * 2))\n",
    "\n",
    "# Minimal impact there, except for the runtime"
   ]
  },
  {
   "cell_type": "code",
   "execution_count": 23,
   "metadata": {},
   "outputs": [
    {
     "data": {
      "text/html": [
       "<div>\n",
       "<style scoped>\n",
       "    .dataframe tbody tr th:only-of-type {\n",
       "        vertical-align: middle;\n",
       "    }\n",
       "\n",
       "    .dataframe tbody tr th {\n",
       "        vertical-align: top;\n",
       "    }\n",
       "\n",
       "    .dataframe thead th {\n",
       "        text-align: right;\n",
       "    }\n",
       "</style>\n",
       "<table border=\"1\" class=\"dataframe\">\n",
       "  <thead>\n",
       "    <tr style=\"text-align: right;\">\n",
       "      <th></th>\n",
       "      <th>importance</th>\n",
       "    </tr>\n",
       "  </thead>\n",
       "  <tbody>\n",
       "    <tr>\n",
       "      <th>Y/A</th>\n",
       "      <td>0.298394</td>\n",
       "    </tr>\n",
       "    <tr>\n",
       "      <th>Yds</th>\n",
       "      <td>0.209293</td>\n",
       "    </tr>\n",
       "    <tr>\n",
       "      <th>Age</th>\n",
       "      <td>0.115776</td>\n",
       "    </tr>\n",
       "    <tr>\n",
       "      <th>Points_against</th>\n",
       "      <td>0.091204</td>\n",
       "    </tr>\n",
       "    <tr>\n",
       "      <th>Cmp%</th>\n",
       "      <td>0.082256</td>\n",
       "    </tr>\n",
       "    <tr>\n",
       "      <th>Week</th>\n",
       "      <td>0.064811</td>\n",
       "    </tr>\n",
       "    <tr>\n",
       "      <th>Att</th>\n",
       "      <td>0.063773</td>\n",
       "    </tr>\n",
       "    <tr>\n",
       "      <th>Sk</th>\n",
       "      <td>0.050003</td>\n",
       "    </tr>\n",
       "    <tr>\n",
       "      <th>Int</th>\n",
       "      <td>0.024490</td>\n",
       "    </tr>\n",
       "  </tbody>\n",
       "</table>\n",
       "</div>"
      ],
      "text/plain": [
       "                importance\n",
       "Y/A               0.298394\n",
       "Yds               0.209293\n",
       "Age               0.115776\n",
       "Points_against    0.091204\n",
       "Cmp%              0.082256\n",
       "Week              0.064811\n",
       "Att               0.063773\n",
       "Sk                0.050003\n",
       "Int               0.024490"
      ]
     },
     "execution_count": 23,
     "metadata": {},
     "output_type": "execute_result"
    }
   ],
   "source": [
    "rfr.fit(X, Y)\n",
    "\n",
    "feature_importances = pd.DataFrame(rfr.feature_importances_,\n",
    "                                   index = X.columns,\n",
    "                                   columns=['importance']).sort_values('importance', ascending=False)\n",
    "\n",
    "feature_importances"
   ]
  },
  {
   "cell_type": "markdown",
   "metadata": {},
   "source": [
    "### Boosting Model"
   ]
  },
  {
   "cell_type": "code",
   "execution_count": 26,
   "metadata": {},
   "outputs": [
    {
     "data": {
      "text/plain": [
       "GradientBoostingRegressor(alpha=0.9, criterion='friedman_mse', init=None,\n",
       "             learning_rate=0.1, loss='ls', max_depth=5, max_features=None,\n",
       "             max_leaf_nodes=None, min_impurity_decrease=0.0,\n",
       "             min_impurity_split=None, min_samples_leaf=1,\n",
       "             min_samples_split=2, min_weight_fraction_leaf=0.0,\n",
       "             n_estimators=400, presort='auto', random_state=0, subsample=1,\n",
       "             verbose=0, warm_start=False)"
      ]
     },
     "execution_count": 26,
     "metadata": {},
     "output_type": "execute_result"
    }
   ],
   "source": [
    "model = ensemble.GradientBoostingRegressor(n_estimators=400, random_state=0,\n",
    "                                  max_depth=5, learning_rate=0.1, subsample=1)\n",
    "model.fit(X, Y)"
   ]
  },
  {
   "cell_type": "code",
   "execution_count": 29,
   "metadata": {},
   "outputs": [
    {
     "data": {
      "text/plain": [
       "0.9994887884537739"
      ]
     },
     "execution_count": 29,
     "metadata": {},
     "output_type": "execute_result"
    }
   ],
   "source": [
    "model.score(X, Y)"
   ]
  },
  {
   "cell_type": "code",
   "execution_count": 30,
   "metadata": {},
   "outputs": [
    {
     "data": {
      "text/plain": [
       "array([0.34834758, 0.08136738, 0.37056992, 0.05610655, 0.32991662])"
      ]
     },
     "execution_count": 30,
     "metadata": {},
     "output_type": "execute_result"
    }
   ],
   "source": [
    "cross_val_score(model, X, Y, cv=5)"
   ]
  },
  {
   "cell_type": "markdown",
   "metadata": {},
   "source": [
    "### SKLearn MLPRegressor"
   ]
  },
  {
   "cell_type": "code",
   "execution_count": 28,
   "metadata": {},
   "outputs": [
    {
     "data": {
      "text/plain": [
       "MLPRegressor(activation='relu', alpha=0.0001, batch_size='auto', beta_1=0.9,\n",
       "       beta_2=0.999, early_stopping=False, epsilon=1e-08,\n",
       "       hidden_layer_sizes=(1000,), learning_rate='constant',\n",
       "       learning_rate_init=0.001, max_iter=200, momentum=0.9,\n",
       "       nesterovs_momentum=True, power_t=0.5, random_state=None,\n",
       "       shuffle=True, solver='adam', tol=0.0001, validation_fraction=0.1,\n",
       "       verbose=False, warm_start=False)"
      ]
     },
     "execution_count": 28,
     "metadata": {},
     "output_type": "execute_result"
    }
   ],
   "source": [
    "mlp = MLPRegressor(hidden_layer_sizes=(1000,))\n",
    "mlp.fit(X, Y)"
   ]
  },
  {
   "cell_type": "code",
   "execution_count": 31,
   "metadata": {},
   "outputs": [
    {
     "data": {
      "text/plain": [
       "0.4815856397567027"
      ]
     },
     "execution_count": 31,
     "metadata": {},
     "output_type": "execute_result"
    }
   ],
   "source": [
    "mlp.score(X, Y)"
   ]
  },
  {
   "cell_type": "code",
   "execution_count": 32,
   "metadata": {},
   "outputs": [
    {
     "data": {
      "text/plain": [
       "array([ 0.525208  , -0.29098334,  0.14995476, -4.53577159, -2.72926881])"
      ]
     },
     "execution_count": 32,
     "metadata": {},
     "output_type": "execute_result"
    }
   ],
   "source": [
    "cross_val_score(mlp, X, Y, cv=5)"
   ]
  }
 ],
 "metadata": {
  "kernelspec": {
   "display_name": "Python 3",
   "language": "python",
   "name": "python3"
  },
  "language_info": {
   "codemirror_mode": {
    "name": "ipython",
    "version": 3
   },
   "file_extension": ".py",
   "mimetype": "text/x-python",
   "name": "python",
   "nbconvert_exporter": "python",
   "pygments_lexer": "ipython3",
   "version": "3.6.8"
  }
 },
 "nbformat": 4,
 "nbformat_minor": 2
}

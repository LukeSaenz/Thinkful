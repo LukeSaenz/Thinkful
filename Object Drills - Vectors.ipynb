{
 "cells": [
  {
   "cell_type": "markdown",
   "metadata": {},
   "source": [
    "Create a Vector class with x and a y attributes that represent component magnitudes in the x and y directions.\n",
    "\n",
    "Your vectors should handle vector additon with an .add() method that takes a second vector as an argument and returns a new vector equal to the sum of the vector you call .add() on and the vector you pass in.\n",
    "\n",
    "For example:\n",
    "\n",
    ">>> a = Vector(3, 4)\n",
    ">>> a.x\n",
    "3\n",
    ">>> a.y\n",
    "4\n",
    ">>> b = Vector(1, 2)\n",
    ">>> c = a.add(b)\n",
    ">>> c.x\n",
    "4\n",
    ">>> c.y\n",
    "6\n",
    "Adding vectors when you have their components is easy: just add the two x components together and the two y components together to get the x and y components for the vector sum."
   ]
  },
  {
   "cell_type": "code",
   "execution_count": 1,
   "metadata": {},
   "outputs": [],
   "source": [
    "#create a class and define x and y\n",
    "class Vector(object):\n",
    "    def __init__(self, x, y):\n",
    "        self.x = x\n",
    "        self.y = y\n",
    "\n",
    "#create the add function\n",
    "    def add(self, b):\n",
    "        return Vector(self.x + b.x, self.y + b.y)"
   ]
  },
  {
   "cell_type": "code",
   "execution_count": null,
   "metadata": {},
   "outputs": [],
   "source": []
  }
 ],
 "metadata": {
  "kernelspec": {
   "display_name": "Python 3",
   "language": "python",
   "name": "python3"
  },
  "language_info": {
   "codemirror_mode": {
    "name": "ipython",
    "version": 3
   },
   "file_extension": ".py",
   "mimetype": "text/x-python",
   "name": "python",
   "nbconvert_exporter": "python",
   "pygments_lexer": "ipython3",
   "version": "3.6.5"
  }
 },
 "nbformat": 4,
 "nbformat_minor": 2
}

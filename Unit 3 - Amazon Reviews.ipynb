{
 "cells": [
  {
   "cell_type": "markdown",
   "metadata": {},
   "source": [
    "#### The goal is to create a model to algorithmically predict if a review is positive or negative just based on its text."
   ]
  },
  {
   "cell_type": "code",
   "execution_count": 1,
   "metadata": {},
   "outputs": [],
   "source": [
    "import numpy as np\n",
    "import pandas as pd\n",
    "import scipy\n",
    "import sklearn\n",
    "from sklearn.model_selection import train_test_split\n",
    "import matplotlib.pyplot as plt\n",
    "%matplotlib inline\n",
    "\n",
    "from textblob import TextBlob\n",
    "from collections import Counter\n",
    "import string\n",
    "import nltk"
   ]
  },
  {
   "cell_type": "code",
   "execution_count": 2,
   "metadata": {},
   "outputs": [],
   "source": [
    "df = pd.read_json('reviews_Digital_Music_5.json', lines=True)"
   ]
  },
  {
   "cell_type": "code",
   "execution_count": 3,
   "metadata": {},
   "outputs": [
    {
     "data": {
      "text/html": [
       "<div>\n",
       "<style scoped>\n",
       "    .dataframe tbody tr th:only-of-type {\n",
       "        vertical-align: middle;\n",
       "    }\n",
       "\n",
       "    .dataframe tbody tr th {\n",
       "        vertical-align: top;\n",
       "    }\n",
       "\n",
       "    .dataframe thead th {\n",
       "        text-align: right;\n",
       "    }\n",
       "</style>\n",
       "<table border=\"1\" class=\"dataframe\">\n",
       "  <thead>\n",
       "    <tr style=\"text-align: right;\">\n",
       "      <th></th>\n",
       "      <th>asin</th>\n",
       "      <th>helpful</th>\n",
       "      <th>overall</th>\n",
       "      <th>reviewText</th>\n",
       "      <th>reviewTime</th>\n",
       "      <th>reviewerID</th>\n",
       "      <th>reviewerName</th>\n",
       "      <th>summary</th>\n",
       "      <th>unixReviewTime</th>\n",
       "    </tr>\n",
       "  </thead>\n",
       "  <tbody>\n",
       "    <tr>\n",
       "      <th>0</th>\n",
       "      <td>5555991584</td>\n",
       "      <td>[3, 3]</td>\n",
       "      <td>5</td>\n",
       "      <td>It's hard to believe \"Memory of Trees\" came ou...</td>\n",
       "      <td>09 12, 2006</td>\n",
       "      <td>A3EBHHCZO6V2A4</td>\n",
       "      <td>Amaranth \"music fan\"</td>\n",
       "      <td>Enya's last great album</td>\n",
       "      <td>1158019200</td>\n",
       "    </tr>\n",
       "    <tr>\n",
       "      <th>1</th>\n",
       "      <td>5555991584</td>\n",
       "      <td>[0, 0]</td>\n",
       "      <td>5</td>\n",
       "      <td>A clasically-styled and introverted album, Mem...</td>\n",
       "      <td>06 3, 2001</td>\n",
       "      <td>AZPWAXJG9OJXV</td>\n",
       "      <td>bethtexas</td>\n",
       "      <td>Enya at her most elegant</td>\n",
       "      <td>991526400</td>\n",
       "    </tr>\n",
       "    <tr>\n",
       "      <th>2</th>\n",
       "      <td>5555991584</td>\n",
       "      <td>[2, 2]</td>\n",
       "      <td>5</td>\n",
       "      <td>I never thought Enya would reach the sublime h...</td>\n",
       "      <td>07 14, 2003</td>\n",
       "      <td>A38IRL0X2T4DPF</td>\n",
       "      <td>bob turnley</td>\n",
       "      <td>The best so far</td>\n",
       "      <td>1058140800</td>\n",
       "    </tr>\n",
       "    <tr>\n",
       "      <th>3</th>\n",
       "      <td>5555991584</td>\n",
       "      <td>[1, 1]</td>\n",
       "      <td>5</td>\n",
       "      <td>This is the third review of an irish album I w...</td>\n",
       "      <td>05 3, 2000</td>\n",
       "      <td>A22IK3I6U76GX0</td>\n",
       "      <td>Calle</td>\n",
       "      <td>Ireland produces good music.</td>\n",
       "      <td>957312000</td>\n",
       "    </tr>\n",
       "    <tr>\n",
       "      <th>4</th>\n",
       "      <td>5555991584</td>\n",
       "      <td>[1, 1]</td>\n",
       "      <td>4</td>\n",
       "      <td>Enya, despite being a successful recording art...</td>\n",
       "      <td>01 17, 2008</td>\n",
       "      <td>A1AISPOIIHTHXX</td>\n",
       "      <td>Cloud \"...\"</td>\n",
       "      <td>4.5; music to dream to</td>\n",
       "      <td>1200528000</td>\n",
       "    </tr>\n",
       "  </tbody>\n",
       "</table>\n",
       "</div>"
      ],
      "text/plain": [
       "         asin helpful  overall  \\\n",
       "0  5555991584  [3, 3]        5   \n",
       "1  5555991584  [0, 0]        5   \n",
       "2  5555991584  [2, 2]        5   \n",
       "3  5555991584  [1, 1]        5   \n",
       "4  5555991584  [1, 1]        4   \n",
       "\n",
       "                                          reviewText   reviewTime  \\\n",
       "0  It's hard to believe \"Memory of Trees\" came ou...  09 12, 2006   \n",
       "1  A clasically-styled and introverted album, Mem...   06 3, 2001   \n",
       "2  I never thought Enya would reach the sublime h...  07 14, 2003   \n",
       "3  This is the third review of an irish album I w...   05 3, 2000   \n",
       "4  Enya, despite being a successful recording art...  01 17, 2008   \n",
       "\n",
       "       reviewerID          reviewerName                       summary  \\\n",
       "0  A3EBHHCZO6V2A4  Amaranth \"music fan\"       Enya's last great album   \n",
       "1   AZPWAXJG9OJXV             bethtexas      Enya at her most elegant   \n",
       "2  A38IRL0X2T4DPF           bob turnley               The best so far   \n",
       "3  A22IK3I6U76GX0                 Calle  Ireland produces good music.   \n",
       "4  A1AISPOIIHTHXX           Cloud \"...\"        4.5; music to dream to   \n",
       "\n",
       "   unixReviewTime  \n",
       "0      1158019200  \n",
       "1       991526400  \n",
       "2      1058140800  \n",
       "3       957312000  \n",
       "4      1200528000  "
      ]
     },
     "execution_count": 3,
     "metadata": {},
     "output_type": "execute_result"
    }
   ],
   "source": [
    "df.head()"
   ]
  },
  {
   "cell_type": "markdown",
   "metadata": {},
   "source": [
    "##### Reviewing the data"
   ]
  },
  {
   "cell_type": "code",
   "execution_count": 4,
   "metadata": {},
   "outputs": [
    {
     "data": {
      "text/plain": [
       "(64706, 9)"
      ]
     },
     "execution_count": 4,
     "metadata": {},
     "output_type": "execute_result"
    }
   ],
   "source": [
    "df.shape"
   ]
  },
  {
   "cell_type": "code",
   "execution_count": 5,
   "metadata": {},
   "outputs": [
    {
     "data": {
      "text/plain": [
       "asin                0\n",
       "helpful             0\n",
       "overall             0\n",
       "reviewText          0\n",
       "reviewTime          0\n",
       "reviewerID          0\n",
       "reviewerName      177\n",
       "summary             0\n",
       "unixReviewTime      0\n",
       "dtype: int64"
      ]
     },
     "execution_count": 5,
     "metadata": {},
     "output_type": "execute_result"
    }
   ],
   "source": [
    "df.isnull().sum()"
   ]
  },
  {
   "cell_type": "code",
   "execution_count": 6,
   "metadata": {},
   "outputs": [
    {
     "data": {
      "text/plain": [
       "<matplotlib.axes._subplots.AxesSubplot at 0x1a0b5d7710>"
      ]
     },
     "execution_count": 6,
     "metadata": {},
     "output_type": "execute_result"
    },
    {
     "data": {
      "image/png": "[encoded data removed]",
      "text/plain": [
       "<Figure size 432x288 with 1 Axes>"
      ]
     },
     "metadata": {},
     "output_type": "display_data"
    }
   ],
   "source": [
    "df.overall.hist()"
   ]
  },
  {
   "cell_type": "code",
   "execution_count": 7,
   "metadata": {},
   "outputs": [
    {
     "data": {
      "text/plain": [
       "5    35580\n",
       "4    16536\n",
       "3     6789\n",
       "2     3010\n",
       "1     2791\n",
       "Name: overall, dtype: int64"
      ]
     },
     "execution_count": 7,
     "metadata": {},
     "output_type": "execute_result"
    }
   ],
   "source": [
    "df['overall'].value_counts()"
   ]
  },
  {
   "cell_type": "markdown",
   "metadata": {},
   "source": [
    "##### Creating a feature set with randomized data subset for computational workload reduction."
   ]
  },
  {
   "cell_type": "code",
   "execution_count": 8,
   "metadata": {},
   "outputs": [],
   "source": [
    "df = df.sample(frac=0.25)\n",
    "\n",
    "# Dropping columns that won't help me in my sentiment analysis\n",
    "features = df[['reviewerID', 'reviewText', 'summary', 'overall']]"
   ]
  },
  {
   "cell_type": "code",
   "execution_count": 9,
   "metadata": {},
   "outputs": [
    {
     "data": {
      "text/html": [
       "<div>\n",
       "<style scoped>\n",
       "    .dataframe tbody tr th:only-of-type {\n",
       "        vertical-align: middle;\n",
       "    }\n",
       "\n",
       "    .dataframe tbody tr th {\n",
       "        vertical-align: top;\n",
       "    }\n",
       "\n",
       "    .dataframe thead th {\n",
       "        text-align: right;\n",
       "    }\n",
       "</style>\n",
       "<table border=\"1\" class=\"dataframe\">\n",
       "  <thead>\n",
       "    <tr style=\"text-align: right;\">\n",
       "      <th></th>\n",
       "      <th>reviewerID</th>\n",
       "      <th>reviewText</th>\n",
       "      <th>summary</th>\n",
       "      <th>overall</th>\n",
       "    </tr>\n",
       "  </thead>\n",
       "  <tbody>\n",
       "    <tr>\n",
       "      <th>10077</th>\n",
       "      <td>A36CUVZ2FD4SOO</td>\n",
       "      <td>&amp;quot;Rocks&amp;quot; and &amp;quot;Pump&amp;quot; are the...</td>\n",
       "      <td>ESSENTIAL</td>\n",
       "      <td>5</td>\n",
       "    </tr>\n",
       "    <tr>\n",
       "      <th>28341</th>\n",
       "      <td>A3PCTD8QM1BIXI</td>\n",
       "      <td>After releasing two back to back discs, Blacks...</td>\n",
       "      <td>The downward spiral begin with this disc</td>\n",
       "      <td>2</td>\n",
       "    </tr>\n",
       "    <tr>\n",
       "      <th>3005</th>\n",
       "      <td>A3673NBQVA4J2M</td>\n",
       "      <td>This is stark raving beautiful. It has jazz fu...</td>\n",
       "      <td>I will definitely buy this one</td>\n",
       "      <td>5</td>\n",
       "    </tr>\n",
       "    <tr>\n",
       "      <th>13077</th>\n",
       "      <td>ADXSUMA0L8EOF</td>\n",
       "      <td>I bought this for the title, and based on the ...</td>\n",
       "      <td>Not Wrong Enough</td>\n",
       "      <td>3</td>\n",
       "    </tr>\n",
       "    <tr>\n",
       "      <th>40555</th>\n",
       "      <td>A2X0B2YJ50W7HU</td>\n",
       "      <td>Usually it takes Nas a long time between album...</td>\n",
       "      <td>God's Son...incredible</td>\n",
       "      <td>4</td>\n",
       "    </tr>\n",
       "  </tbody>\n",
       "</table>\n",
       "</div>"
      ],
      "text/plain": [
       "           reviewerID                                         reviewText  \\\n",
       "10077  A36CUVZ2FD4SOO  &quot;Rocks&quot; and &quot;Pump&quot; are the...   \n",
       "28341  A3PCTD8QM1BIXI  After releasing two back to back discs, Blacks...   \n",
       "3005   A3673NBQVA4J2M  This is stark raving beautiful. It has jazz fu...   \n",
       "13077   ADXSUMA0L8EOF  I bought this for the title, and based on the ...   \n",
       "40555  A2X0B2YJ50W7HU  Usually it takes Nas a long time between album...   \n",
       "\n",
       "                                        summary  overall  \n",
       "10077                                 ESSENTIAL        5  \n",
       "28341  The downward spiral begin with this disc        2  \n",
       "3005             I will definitely buy this one        5  \n",
       "13077                          Not Wrong Enough        3  \n",
       "40555                    God's Son...incredible        4  "
      ]
     },
     "execution_count": 9,
     "metadata": {},
     "output_type": "execute_result"
    }
   ],
   "source": [
    "features.head()"
   ]
  },
  {
   "cell_type": "markdown",
   "metadata": {},
   "source": [
    "### Taking a deeper look at sentiment"
   ]
  },
  {
   "cell_type": "code",
   "execution_count": 10,
   "metadata": {},
   "outputs": [
    {
     "name": "stderr",
     "output_type": "stream",
     "text": [
      "/anaconda3/lib/python3.6/site-packages/ipykernel_launcher.py:9: SettingWithCopyWarning: \n",
      "A value is trying to be set on a copy of a slice from a DataFrame.\n",
      "Try using .loc[row_indexer,col_indexer] = value instead\n",
      "\n",
      "See the caveats in the documentation: http://pandas.pydata.org/pandas-docs/stable/indexing.html#indexing-view-versus-copy\n",
      "  if __name__ == '__main__':\n"
     ]
    }
   ],
   "source": [
    "# Assessing sentiment of reviewText\n",
    "\n",
    "reviewText_sentiment_list = list(features['reviewText'])\n",
    "reviewText_sentiment_column = []\n",
    "\n",
    "for i in reviewText_sentiment_list:\n",
    "    reviewText_sentiment_column.append(TextBlob(i).sentiment.polarity)\n",
    "\n",
    "features['reviewText_sentiment'] = reviewText_sentiment_column"
   ]
  },
  {
   "cell_type": "code",
   "execution_count": 11,
   "metadata": {},
   "outputs": [
    {
     "name": "stderr",
     "output_type": "stream",
     "text": [
      "/anaconda3/lib/python3.6/site-packages/ipykernel_launcher.py:9: SettingWithCopyWarning: \n",
      "A value is trying to be set on a copy of a slice from a DataFrame.\n",
      "Try using .loc[row_indexer,col_indexer] = value instead\n",
      "\n",
      "See the caveats in the documentation: http://pandas.pydata.org/pandas-docs/stable/indexing.html#indexing-view-versus-copy\n",
      "  if __name__ == '__main__':\n"
     ]
    }
   ],
   "source": [
    "# Assessing sentiment of summary\n",
    "\n",
    "summary_sentiment_list = list(features['summary'])\n",
    "summary_sentiment_column = []\n",
    "\n",
    "for j in summary_sentiment_list:\n",
    "    summary_sentiment_column.append(TextBlob(j).sentiment.polarity)\n",
    "    \n",
    "features['summary_sentiment'] = summary_sentiment_column"
   ]
  },
  {
   "cell_type": "code",
   "execution_count": 12,
   "metadata": {},
   "outputs": [
    {
     "data": {
      "text/html": [
       "<div>\n",
       "<style scoped>\n",
       "    .dataframe tbody tr th:only-of-type {\n",
       "        vertical-align: middle;\n",
       "    }\n",
       "\n",
       "    .dataframe tbody tr th {\n",
       "        vertical-align: top;\n",
       "    }\n",
       "\n",
       "    .dataframe thead th {\n",
       "        text-align: right;\n",
       "    }\n",
       "</style>\n",
       "<table border=\"1\" class=\"dataframe\">\n",
       "  <thead>\n",
       "    <tr style=\"text-align: right;\">\n",
       "      <th></th>\n",
       "      <th>reviewerID</th>\n",
       "      <th>reviewText</th>\n",
       "      <th>summary</th>\n",
       "      <th>overall</th>\n",
       "      <th>reviewText_sentiment</th>\n",
       "      <th>summary_sentiment</th>\n",
       "    </tr>\n",
       "  </thead>\n",
       "  <tbody>\n",
       "    <tr>\n",
       "      <th>10077</th>\n",
       "      <td>A36CUVZ2FD4SOO</td>\n",
       "      <td>&amp;quot;Rocks&amp;quot; and &amp;quot;Pump&amp;quot; are the...</td>\n",
       "      <td>ESSENTIAL</td>\n",
       "      <td>5</td>\n",
       "      <td>1.000000</td>\n",
       "      <td>0.000</td>\n",
       "    </tr>\n",
       "    <tr>\n",
       "      <th>28341</th>\n",
       "      <td>A3PCTD8QM1BIXI</td>\n",
       "      <td>After releasing two back to back discs, Blacks...</td>\n",
       "      <td>The downward spiral begin with this disc</td>\n",
       "      <td>2</td>\n",
       "      <td>0.141234</td>\n",
       "      <td>0.000</td>\n",
       "    </tr>\n",
       "    <tr>\n",
       "      <th>3005</th>\n",
       "      <td>A3673NBQVA4J2M</td>\n",
       "      <td>This is stark raving beautiful. It has jazz fu...</td>\n",
       "      <td>I will definitely buy this one</td>\n",
       "      <td>5</td>\n",
       "      <td>0.412500</td>\n",
       "      <td>0.000</td>\n",
       "    </tr>\n",
       "    <tr>\n",
       "      <th>13077</th>\n",
       "      <td>ADXSUMA0L8EOF</td>\n",
       "      <td>I bought this for the title, and based on the ...</td>\n",
       "      <td>Not Wrong Enough</td>\n",
       "      <td>3</td>\n",
       "      <td>0.131982</td>\n",
       "      <td>0.125</td>\n",
       "    </tr>\n",
       "    <tr>\n",
       "      <th>40555</th>\n",
       "      <td>A2X0B2YJ50W7HU</td>\n",
       "      <td>Usually it takes Nas a long time between album...</td>\n",
       "      <td>God's Son...incredible</td>\n",
       "      <td>4</td>\n",
       "      <td>0.242877</td>\n",
       "      <td>0.000</td>\n",
       "    </tr>\n",
       "  </tbody>\n",
       "</table>\n",
       "</div>"
      ],
      "text/plain": [
       "           reviewerID                                         reviewText  \\\n",
       "10077  A36CUVZ2FD4SOO  &quot;Rocks&quot; and &quot;Pump&quot; are the...   \n",
       "28341  A3PCTD8QM1BIXI  After releasing two back to back discs, Blacks...   \n",
       "3005   A3673NBQVA4J2M  This is stark raving beautiful. It has jazz fu...   \n",
       "13077   ADXSUMA0L8EOF  I bought this for the title, and based on the ...   \n",
       "40555  A2X0B2YJ50W7HU  Usually it takes Nas a long time between album...   \n",
       "\n",
       "                                        summary  overall  \\\n",
       "10077                                 ESSENTIAL        5   \n",
       "28341  The downward spiral begin with this disc        2   \n",
       "3005             I will definitely buy this one        5   \n",
       "13077                          Not Wrong Enough        3   \n",
       "40555                    God's Son...incredible        4   \n",
       "\n",
       "       reviewText_sentiment  summary_sentiment  \n",
       "10077              1.000000              0.000  \n",
       "28341              0.141234              0.000  \n",
       "3005               0.412500              0.000  \n",
       "13077              0.131982              0.125  \n",
       "40555              0.242877              0.000  "
      ]
     },
     "execution_count": 12,
     "metadata": {},
     "output_type": "execute_result"
    }
   ],
   "source": [
    "features.head()"
   ]
  },
  {
   "cell_type": "code",
   "execution_count": 13,
   "metadata": {},
   "outputs": [
    {
     "name": "stderr",
     "output_type": "stream",
     "text": [
      "/anaconda3/lib/python3.6/site-packages/ipykernel_launcher.py:1: SettingWithCopyWarning: \n",
      "A value is trying to be set on a copy of a slice from a DataFrame.\n",
      "Try using .loc[row_indexer,col_indexer] = value instead\n",
      "\n",
      "See the caveats in the documentation: http://pandas.pydata.org/pandas-docs/stable/indexing.html#indexing-view-versus-copy\n",
      "  \"\"\"Entry point for launching an IPython kernel.\n",
      "/anaconda3/lib/python3.6/site-packages/pandas/core/indexing.py:543: SettingWithCopyWarning: \n",
      "A value is trying to be set on a copy of a slice from a DataFrame.\n",
      "Try using .loc[row_indexer,col_indexer] = value instead\n",
      "\n",
      "See the caveats in the documentation: http://pandas.pydata.org/pandas-docs/stable/indexing.html#indexing-view-versus-copy\n",
      "  self.obj[item] = s\n"
     ]
    }
   ],
   "source": [
    "features['perfect_rating'] = 0\n",
    "features.loc[(features['overall'] > 4), 'perfect_rating'] = 1"
   ]
  },
  {
   "cell_type": "code",
   "execution_count": 14,
   "metadata": {},
   "outputs": [
    {
     "data": {
      "text/html": [
       "<div>\n",
       "<style scoped>\n",
       "    .dataframe tbody tr th:only-of-type {\n",
       "        vertical-align: middle;\n",
       "    }\n",
       "\n",
       "    .dataframe tbody tr th {\n",
       "        vertical-align: top;\n",
       "    }\n",
       "\n",
       "    .dataframe thead th {\n",
       "        text-align: right;\n",
       "    }\n",
       "</style>\n",
       "<table border=\"1\" class=\"dataframe\">\n",
       "  <thead>\n",
       "    <tr style=\"text-align: right;\">\n",
       "      <th></th>\n",
       "      <th>reviewerID</th>\n",
       "      <th>reviewText</th>\n",
       "      <th>summary</th>\n",
       "      <th>overall</th>\n",
       "      <th>reviewText_sentiment</th>\n",
       "      <th>summary_sentiment</th>\n",
       "      <th>perfect_rating</th>\n",
       "    </tr>\n",
       "  </thead>\n",
       "  <tbody>\n",
       "    <tr>\n",
       "      <th>10077</th>\n",
       "      <td>A36CUVZ2FD4SOO</td>\n",
       "      <td>&amp;quot;Rocks&amp;quot; and &amp;quot;Pump&amp;quot; are the...</td>\n",
       "      <td>ESSENTIAL</td>\n",
       "      <td>5</td>\n",
       "      <td>1.000000</td>\n",
       "      <td>0.000</td>\n",
       "      <td>1</td>\n",
       "    </tr>\n",
       "    <tr>\n",
       "      <th>28341</th>\n",
       "      <td>A3PCTD8QM1BIXI</td>\n",
       "      <td>After releasing two back to back discs, Blacks...</td>\n",
       "      <td>The downward spiral begin with this disc</td>\n",
       "      <td>2</td>\n",
       "      <td>0.141234</td>\n",
       "      <td>0.000</td>\n",
       "      <td>0</td>\n",
       "    </tr>\n",
       "    <tr>\n",
       "      <th>3005</th>\n",
       "      <td>A3673NBQVA4J2M</td>\n",
       "      <td>This is stark raving beautiful. It has jazz fu...</td>\n",
       "      <td>I will definitely buy this one</td>\n",
       "      <td>5</td>\n",
       "      <td>0.412500</td>\n",
       "      <td>0.000</td>\n",
       "      <td>1</td>\n",
       "    </tr>\n",
       "    <tr>\n",
       "      <th>13077</th>\n",
       "      <td>ADXSUMA0L8EOF</td>\n",
       "      <td>I bought this for the title, and based on the ...</td>\n",
       "      <td>Not Wrong Enough</td>\n",
       "      <td>3</td>\n",
       "      <td>0.131982</td>\n",
       "      <td>0.125</td>\n",
       "      <td>0</td>\n",
       "    </tr>\n",
       "    <tr>\n",
       "      <th>40555</th>\n",
       "      <td>A2X0B2YJ50W7HU</td>\n",
       "      <td>Usually it takes Nas a long time between album...</td>\n",
       "      <td>God's Son...incredible</td>\n",
       "      <td>4</td>\n",
       "      <td>0.242877</td>\n",
       "      <td>0.000</td>\n",
       "      <td>0</td>\n",
       "    </tr>\n",
       "  </tbody>\n",
       "</table>\n",
       "</div>"
      ],
      "text/plain": [
       "           reviewerID                                         reviewText  \\\n",
       "10077  A36CUVZ2FD4SOO  &quot;Rocks&quot; and &quot;Pump&quot; are the...   \n",
       "28341  A3PCTD8QM1BIXI  After releasing two back to back discs, Blacks...   \n",
       "3005   A3673NBQVA4J2M  This is stark raving beautiful. It has jazz fu...   \n",
       "13077   ADXSUMA0L8EOF  I bought this for the title, and based on the ...   \n",
       "40555  A2X0B2YJ50W7HU  Usually it takes Nas a long time between album...   \n",
       "\n",
       "                                        summary  overall  \\\n",
       "10077                                 ESSENTIAL        5   \n",
       "28341  The downward spiral begin with this disc        2   \n",
       "3005             I will definitely buy this one        5   \n",
       "13077                          Not Wrong Enough        3   \n",
       "40555                    God's Son...incredible        4   \n",
       "\n",
       "       reviewText_sentiment  summary_sentiment  perfect_rating  \n",
       "10077              1.000000              0.000               1  \n",
       "28341              0.141234              0.000               0  \n",
       "3005               0.412500              0.000               1  \n",
       "13077              0.131982              0.125               0  \n",
       "40555              0.242877              0.000               0  "
      ]
     },
     "execution_count": 14,
     "metadata": {},
     "output_type": "execute_result"
    }
   ],
   "source": [
    "features.head()"
   ]
  },
  {
   "cell_type": "markdown",
   "metadata": {},
   "source": [
    "##### Running a Naive Bayes model"
   ]
  },
  {
   "cell_type": "code",
   "execution_count": 15,
   "metadata": {},
   "outputs": [
    {
     "data": {
      "text/plain": [
       "Index(['reviewerID', 'reviewText', 'summary', 'overall',\n",
       "       'reviewText_sentiment', 'summary_sentiment', 'perfect_rating'],\n",
       "      dtype='object')"
      ]
     },
     "execution_count": 15,
     "metadata": {},
     "output_type": "execute_result"
    }
   ],
   "source": [
    "features.columns"
   ]
  },
  {
   "cell_type": "code",
   "execution_count": 16,
   "metadata": {},
   "outputs": [
    {
     "name": "stdout",
     "output_type": "stream",
     "text": [
      "Number of mislabeled points out of a total 16176 points: 6895\n"
     ]
    }
   ],
   "source": [
    "data = features[['overall', 'reviewText_sentiment', 'summary_sentiment']]\n",
    "target = features['perfect_rating']\n",
    "\n",
    "from sklearn.naive_bayes import BernoulliNB\n",
    "\n",
    "# instantiate the model and store it in a new variable\n",
    "bnb = BernoulliNB()\n",
    "\n",
    "# fit the model to the data\n",
    "bnb.fit(data, target)\n",
    "\n",
    "# classify, storing the result in a new variable\n",
    "y_pred = bnb.predict(data)\n",
    "\n",
    "# display the results\n",
    "print(\"Number of mislabeled points out of a total {} points: {}\".format(\n",
    "    data.shape[0],\n",
    "    (target != y_pred).sum()\n",
    "))"
   ]
  },
  {
   "cell_type": "code",
   "execution_count": 17,
   "metadata": {},
   "outputs": [
    {
     "name": "stdout",
     "output_type": "stream",
     "text": [
      "Accuracy score: \n",
      "0.5705365974282888\n"
     ]
    }
   ],
   "source": [
    "accuracy = ((16176-6947)/16176)\n",
    "print(\"Accuracy score: \")\n",
    "print(accuracy)"
   ]
  },
  {
   "cell_type": "markdown",
   "metadata": {},
   "source": [
    "##### Running a Random Forest Classifier"
   ]
  },
  {
   "cell_type": "code",
   "execution_count": 18,
   "metadata": {},
   "outputs": [
    {
     "name": "stdout",
     "output_type": "stream",
     "text": [
      "[0.56825201 0.56825201 0.5908529  0.56427689 0.57390229 0.57761286\n",
      " 0.57390229 0.57266543 0.58503401 0.56462585]\n",
      "Accuracy: 0.57 (+/- 0.02)\n"
     ]
    }
   ],
   "source": [
    "from sklearn import ensemble\n",
    "from sklearn.model_selection import cross_val_score\n",
    "\n",
    "rfc = ensemble.RandomForestClassifier(n_estimators = 500)\n",
    "\n",
    "X = features[['reviewText_sentiment', 'summary_sentiment']]\n",
    "Y = features['perfect_rating']\n",
    "\n",
    "score = cross_val_score(rfc, X, Y, cv=10)\n",
    "print(score)\n",
    "print('Accuracy: %0.2f (+/- %0.2f)' % (score.mean(), score.std() * 2))"
   ]
  }
 ],
 "metadata": {
  "kernelspec": {
   "display_name": "Python 3",
   "language": "python",
   "name": "python3"
  },
  "language_info": {
   "codemirror_mode": {
    "name": "ipython",
    "version": 3
   },
   "file_extension": ".py",
   "mimetype": "text/x-python",
   "name": "python",
   "nbconvert_exporter": "python",
   "pygments_lexer": "ipython3",
   "version": "3.6.8"
  }
 },
 "nbformat": 4,
 "nbformat_minor": 2
}

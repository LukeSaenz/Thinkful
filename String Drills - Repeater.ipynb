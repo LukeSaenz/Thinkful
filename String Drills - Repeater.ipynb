{
 "cells": [
  {
   "cell_type": "markdown",
   "metadata": {},
   "source": [
    "Write a function named repeater() that takes two arguments (a string and an integer), and returns a new string where the input string is repeated that many times. For example:\n",
    "\n",
    "repeater('a', 5)\n",
    "should return\n",
    "\n",
    "'aaaaa'\n",
    "and\n",
    "\n",
    "repeater('Na', 16)\n",
    "should return\n",
    "\n",
    "'NaNaNaNaNaNaNaNaNaNaNaNaNaNaNaNa`"
   ]
  },
  {
   "cell_type": "code",
   "execution_count": 1,
   "metadata": {},
   "outputs": [],
   "source": [
    "def repeater(string, n):\n",
    "    return string * n"
   ]
  },
  {
   "cell_type": "code",
   "execution_count": null,
   "metadata": {},
   "outputs": [],
   "source": []
  }
 ],
 "metadata": {
  "kernelspec": {
   "display_name": "Python 3",
   "language": "python",
   "name": "python3"
  },
  "language_info": {
   "codemirror_mode": {
    "name": "ipython",
    "version": 3
   },
   "file_extension": ".py",
   "mimetype": "text/x-python",
   "name": "python",
   "nbconvert_exporter": "python",
   "pygments_lexer": "ipython3",
   "version": "3.6.5"
  }
 },
 "nbformat": 4,
 "nbformat_minor": 2
}

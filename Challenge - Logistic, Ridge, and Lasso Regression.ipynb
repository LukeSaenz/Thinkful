{
 "cells": [
  {
   "cell_type": "code",
   "execution_count": 1,
   "metadata": {},
   "outputs": [],
   "source": [
    "import pandas as pd\n",
    "from matplotlib import pyplot as plt\n",
    "import numpy as np\n",
    "import math\n",
    "import datetime\n",
    "from datetime import datetime\n",
    "import seaborn as sns\n",
    "import sklearn\n",
    "from sklearn import linear_model\n",
    "from sklearn import preprocessing\n",
    "from sklearn.linear_model import LogisticRegression\n",
    "import statsmodels.api as sm\n",
    "%matplotlib inline\n",
    "sns.set_style('white')"
   ]
  },
  {
   "cell_type": "code",
   "execution_count": 2,
   "metadata": {},
   "outputs": [],
   "source": [
    "df = pd.read_csv('advertising.csv')"
   ]
  },
  {
   "cell_type": "code",
   "execution_count": 3,
   "metadata": {},
   "outputs": [
    {
     "data": {
      "text/html": [
       "<div>\n",
       "<style scoped>\n",
       "    .dataframe tbody tr th:only-of-type {\n",
       "        vertical-align: middle;\n",
       "    }\n",
       "\n",
       "    .dataframe tbody tr th {\n",
       "        vertical-align: top;\n",
       "    }\n",
       "\n",
       "    .dataframe thead th {\n",
       "        text-align: right;\n",
       "    }\n",
       "</style>\n",
       "<table border=\"1\" class=\"dataframe\">\n",
       "  <thead>\n",
       "    <tr style=\"text-align: right;\">\n",
       "      <th></th>\n",
       "      <th>Daily Time Spent on Site</th>\n",
       "      <th>Age</th>\n",
       "      <th>Area Income</th>\n",
       "      <th>Daily Internet Usage</th>\n",
       "      <th>Ad Topic Line</th>\n",
       "      <th>City</th>\n",
       "      <th>Male</th>\n",
       "      <th>Country</th>\n",
       "      <th>Timestamp</th>\n",
       "      <th>Clicked on Ad</th>\n",
       "    </tr>\n",
       "  </thead>\n",
       "  <tbody>\n",
       "    <tr>\n",
       "      <th>0</th>\n",
       "      <td>68.95</td>\n",
       "      <td>35</td>\n",
       "      <td>61833.90</td>\n",
       "      <td>256.09</td>\n",
       "      <td>Cloned 5thgeneration orchestration</td>\n",
       "      <td>Wrightburgh</td>\n",
       "      <td>0</td>\n",
       "      <td>Tunisia</td>\n",
       "      <td>2016-03-27 00:53:11</td>\n",
       "      <td>0</td>\n",
       "    </tr>\n",
       "    <tr>\n",
       "      <th>1</th>\n",
       "      <td>80.23</td>\n",
       "      <td>31</td>\n",
       "      <td>68441.85</td>\n",
       "      <td>193.77</td>\n",
       "      <td>Monitored national standardization</td>\n",
       "      <td>West Jodi</td>\n",
       "      <td>1</td>\n",
       "      <td>Nauru</td>\n",
       "      <td>2016-04-04 01:39:02</td>\n",
       "      <td>0</td>\n",
       "    </tr>\n",
       "    <tr>\n",
       "      <th>2</th>\n",
       "      <td>69.47</td>\n",
       "      <td>26</td>\n",
       "      <td>59785.94</td>\n",
       "      <td>236.50</td>\n",
       "      <td>Organic bottom-line service-desk</td>\n",
       "      <td>Davidton</td>\n",
       "      <td>0</td>\n",
       "      <td>San Marino</td>\n",
       "      <td>2016-03-13 20:35:42</td>\n",
       "      <td>0</td>\n",
       "    </tr>\n",
       "    <tr>\n",
       "      <th>3</th>\n",
       "      <td>74.15</td>\n",
       "      <td>29</td>\n",
       "      <td>54806.18</td>\n",
       "      <td>245.89</td>\n",
       "      <td>Triple-buffered reciprocal time-frame</td>\n",
       "      <td>West Terrifurt</td>\n",
       "      <td>1</td>\n",
       "      <td>Italy</td>\n",
       "      <td>2016-01-10 02:31:19</td>\n",
       "      <td>0</td>\n",
       "    </tr>\n",
       "    <tr>\n",
       "      <th>4</th>\n",
       "      <td>68.37</td>\n",
       "      <td>35</td>\n",
       "      <td>73889.99</td>\n",
       "      <td>225.58</td>\n",
       "      <td>Robust logistical utilization</td>\n",
       "      <td>South Manuel</td>\n",
       "      <td>0</td>\n",
       "      <td>Iceland</td>\n",
       "      <td>2016-06-03 03:36:18</td>\n",
       "      <td>0</td>\n",
       "    </tr>\n",
       "  </tbody>\n",
       "</table>\n",
       "</div>"
      ],
      "text/plain": [
       "   Daily Time Spent on Site  Age  Area Income  Daily Internet Usage  \\\n",
       "0                     68.95   35     61833.90                256.09   \n",
       "1                     80.23   31     68441.85                193.77   \n",
       "2                     69.47   26     59785.94                236.50   \n",
       "3                     74.15   29     54806.18                245.89   \n",
       "4                     68.37   35     73889.99                225.58   \n",
       "\n",
       "                           Ad Topic Line            City  Male     Country  \\\n",
       "0     Cloned 5thgeneration orchestration     Wrightburgh     0     Tunisia   \n",
       "1     Monitored national standardization       West Jodi     1       Nauru   \n",
       "2       Organic bottom-line service-desk        Davidton     0  San Marino   \n",
       "3  Triple-buffered reciprocal time-frame  West Terrifurt     1       Italy   \n",
       "4          Robust logistical utilization    South Manuel     0     Iceland   \n",
       "\n",
       "             Timestamp  Clicked on Ad  \n",
       "0  2016-03-27 00:53:11              0  \n",
       "1  2016-04-04 01:39:02              0  \n",
       "2  2016-03-13 20:35:42              0  \n",
       "3  2016-01-10 02:31:19              0  \n",
       "4  2016-06-03 03:36:18              0  "
      ]
     },
     "execution_count": 3,
     "metadata": {},
     "output_type": "execute_result"
    }
   ],
   "source": [
    "df.head()"
   ]
  },
  {
   "cell_type": "code",
   "execution_count": 4,
   "metadata": {},
   "outputs": [
    {
     "data": {
      "text/plain": [
       "False"
      ]
     },
     "execution_count": 4,
     "metadata": {},
     "output_type": "execute_result"
    }
   ],
   "source": [
    "#Checking to see if there are any null values in the dataset to clean up\n",
    "df.isnull().values.any()"
   ]
  },
  {
   "cell_type": "code",
   "execution_count": 5,
   "metadata": {},
   "outputs": [
    {
     "data": {
      "text/plain": [
       "Text(0.5, 1.0, 'Daily Internet Usage')"
      ]
     },
     "execution_count": 5,
     "metadata": {},
     "output_type": "execute_result"
    },
    {
     "data": {
      "image/png": "[encoded data removed]",
      "text/plain": [
       "<Figure size 1440x360 with 4 Axes>"
      ]
     },
     "metadata": {},
     "output_type": "display_data"
    }
   ],
   "source": [
    "#Determining normality for our continuous variables\n",
    "fig = plt.figure(figsize=(20,5))\n",
    "\n",
    "fig.add_subplot(141)\n",
    "sns.distplot(df['Daily Time Spent on Site'], hist=True, color='b', kde_kws={'shade':True,'color':'g'})\n",
    "plt.title('Daily Time Spent on Site')\n",
    "\n",
    "fig.add_subplot(142)\n",
    "sns.distplot(df['Age'], hist=True, color='b', kde_kws={'shade':True,'color':'g'})\n",
    "plt.title('Age')\n",
    "\n",
    "fig.add_subplot(143)\n",
    "sns.distplot(df['Area Income'], hist=True, color='b', kde_kws={'shade':True,'color':'g'})\n",
    "plt.title('Area Income')\n",
    "\n",
    "fig.add_subplot(144)\n",
    "sns.distplot(df['Daily Internet Usage'], hist=True, color='b', kde_kws={'shade':True,'color':'g'})\n",
    "plt.title('Daily Internet Usage')"
   ]
  },
  {
   "cell_type": "code",
   "execution_count": 7,
   "metadata": {},
   "outputs": [
    {
     "data": {
      "image/png": "[encoded data removed]",
      "text/plain": [
       "<Figure size 1440x216 with 4 Axes>"
      ]
     },
     "metadata": {},
     "output_type": "display_data"
    }
   ],
   "source": [
    "# Age and Area Income appear to be reasonably normal\n",
    "# Time on Site and Internet Usage are not, so let's look at some transformations\n",
    "\n",
    "fig = plt.figure(figsize=(20,3))\n",
    "\n",
    "fig.add_subplot(141)\n",
    "plt.hist(df['Daily Time Spent on Site'].dropna())\n",
    "plt.title('Raw')\n",
    "\n",
    "fig.add_subplot(142)\n",
    "plt.hist(np.log(df['Daily Time Spent on Site'].dropna()))\n",
    "plt.title('Log')\n",
    "\n",
    "fig.add_subplot(143)\n",
    "plt.hist(np.sqrt(df['Daily Time Spent on Site'].dropna()))\n",
    "plt.title('Square root')\n",
    "\n",
    "ax3=fig.add_subplot(144)\n",
    "plt.hist(1/df['Daily Time Spent on Site'].dropna())\n",
    "plt.title('Inverse')\n",
    "plt.show()\n",
    "\n",
    "# The square root transformation, while skewed left, is closest to normal.\n",
    "\n",
    "df['Daily Time Spent on Site_sqrt'] = np.sqrt(df['Daily Time Spent on Site'])"
   ]
  },
  {
   "cell_type": "code",
   "execution_count": 9,
   "metadata": {},
   "outputs": [
    {
     "data": {
      "image/png": "[encoded data removed]",
      "text/plain": [
       "<Figure size 1440x216 with 4 Axes>"
      ]
     },
     "metadata": {},
     "output_type": "display_data"
    }
   ],
   "source": [
    "# Normalizing 'Daily Internet Usage'\n",
    "\n",
    "fig = plt.figure(figsize=(20,3))\n",
    "\n",
    "fig.add_subplot(141)\n",
    "plt.hist(df['Daily Internet Usage'].dropna())\n",
    "plt.title('Raw')\n",
    "\n",
    "fig.add_subplot(142)\n",
    "plt.hist(np.log(df['Daily Internet Usage'].dropna()))\n",
    "plt.title('Log')\n",
    "\n",
    "fig.add_subplot(143)\n",
    "plt.hist(np.sqrt(df['Daily Internet Usage'].dropna()))\n",
    "plt.title('Square root')\n",
    "\n",
    "ax3=fig.add_subplot(144)\n",
    "plt.hist(1/df['Daily Internet Usage'].dropna())\n",
    "plt.title('Inverse')\n",
    "plt.show()\n",
    "\n",
    "# The log transformation, while skewed right, is closest to normal.\n",
    "\n",
    "df['Daily Internet Usage_log'] = np.log(df['Daily Internet Usage'])"
   ]
  },
  {
   "cell_type": "code",
   "execution_count": 10,
   "metadata": {},
   "outputs": [
    {
     "data": {
      "text/html": [
       "<div>\n",
       "<style scoped>\n",
       "    .dataframe tbody tr th:only-of-type {\n",
       "        vertical-align: middle;\n",
       "    }\n",
       "\n",
       "    .dataframe tbody tr th {\n",
       "        vertical-align: top;\n",
       "    }\n",
       "\n",
       "    .dataframe thead th {\n",
       "        text-align: right;\n",
       "    }\n",
       "</style>\n",
       "<table border=\"1\" class=\"dataframe\">\n",
       "  <thead>\n",
       "    <tr style=\"text-align: right;\">\n",
       "      <th></th>\n",
       "      <th>Age</th>\n",
       "      <th>Area Income</th>\n",
       "      <th>Daily Time Spent on Site_sqrt</th>\n",
       "      <th>Daily Internet Usage_log</th>\n",
       "      <th>Male</th>\n",
       "    </tr>\n",
       "  </thead>\n",
       "  <tbody>\n",
       "    <tr>\n",
       "      <th>0</th>\n",
       "      <td>35</td>\n",
       "      <td>61833.90</td>\n",
       "      <td>68.95</td>\n",
       "      <td>5.545529</td>\n",
       "      <td>0</td>\n",
       "    </tr>\n",
       "    <tr>\n",
       "      <th>1</th>\n",
       "      <td>31</td>\n",
       "      <td>68441.85</td>\n",
       "      <td>80.23</td>\n",
       "      <td>5.266672</td>\n",
       "      <td>1</td>\n",
       "    </tr>\n",
       "    <tr>\n",
       "      <th>2</th>\n",
       "      <td>26</td>\n",
       "      <td>59785.94</td>\n",
       "      <td>69.47</td>\n",
       "      <td>5.465948</td>\n",
       "      <td>0</td>\n",
       "    </tr>\n",
       "    <tr>\n",
       "      <th>3</th>\n",
       "      <td>29</td>\n",
       "      <td>54806.18</td>\n",
       "      <td>74.15</td>\n",
       "      <td>5.504884</td>\n",
       "      <td>1</td>\n",
       "    </tr>\n",
       "    <tr>\n",
       "      <th>4</th>\n",
       "      <td>35</td>\n",
       "      <td>73889.99</td>\n",
       "      <td>68.37</td>\n",
       "      <td>5.418675</td>\n",
       "      <td>0</td>\n",
       "    </tr>\n",
       "  </tbody>\n",
       "</table>\n",
       "</div>"
      ],
      "text/plain": [
       "   Age  Area Income  Daily Time Spent on Site_sqrt  Daily Internet Usage_log  \\\n",
       "0   35     61833.90                          68.95                  5.545529   \n",
       "1   31     68441.85                          80.23                  5.266672   \n",
       "2   26     59785.94                          69.47                  5.465948   \n",
       "3   29     54806.18                          74.15                  5.504884   \n",
       "4   35     73889.99                          68.37                  5.418675   \n",
       "\n",
       "   Male  \n",
       "0     0  \n",
       "1     1  \n",
       "2     0  \n",
       "3     1  \n",
       "4     0  "
      ]
     },
     "execution_count": 10,
     "metadata": {},
     "output_type": "execute_result"
    }
   ],
   "source": [
    "# Create a features dataframe\n",
    "\n",
    "features = df.iloc[:,1:3]\n",
    "features['Daily Time Spent on Site_sqrt'] = df['Daily Time Spent on Site']\n",
    "features['Daily Internet Usage_log'] = df['Daily Internet Usage_log']\n",
    "features['Male'] = df['Male']\n",
    "features.head()"
   ]
  },
  {
   "cell_type": "code",
   "execution_count": 11,
   "metadata": {},
   "outputs": [
    {
     "data": {
      "text/html": [
       "<div>\n",
       "<style scoped>\n",
       "    .dataframe tbody tr th:only-of-type {\n",
       "        vertical-align: middle;\n",
       "    }\n",
       "\n",
       "    .dataframe tbody tr th {\n",
       "        vertical-align: top;\n",
       "    }\n",
       "\n",
       "    .dataframe thead th {\n",
       "        text-align: right;\n",
       "    }\n",
       "</style>\n",
       "<table border=\"1\" class=\"dataframe\">\n",
       "  <thead>\n",
       "    <tr style=\"text-align: right;\">\n",
       "      <th></th>\n",
       "      <th>Age</th>\n",
       "      <th>Area Income</th>\n",
       "      <th>Daily Time Spent on Site_sqrt</th>\n",
       "      <th>Daily Internet Usage_log</th>\n",
       "      <th>Male</th>\n",
       "      <th>Hour</th>\n",
       "      <th>Day</th>\n",
       "      <th>Month</th>\n",
       "    </tr>\n",
       "  </thead>\n",
       "  <tbody>\n",
       "    <tr>\n",
       "      <th>0</th>\n",
       "      <td>35</td>\n",
       "      <td>61833.90</td>\n",
       "      <td>68.95</td>\n",
       "      <td>5.545529</td>\n",
       "      <td>0</td>\n",
       "      <td>0</td>\n",
       "      <td>27</td>\n",
       "      <td>3</td>\n",
       "    </tr>\n",
       "    <tr>\n",
       "      <th>1</th>\n",
       "      <td>31</td>\n",
       "      <td>68441.85</td>\n",
       "      <td>80.23</td>\n",
       "      <td>5.266672</td>\n",
       "      <td>1</td>\n",
       "      <td>1</td>\n",
       "      <td>4</td>\n",
       "      <td>4</td>\n",
       "    </tr>\n",
       "    <tr>\n",
       "      <th>2</th>\n",
       "      <td>26</td>\n",
       "      <td>59785.94</td>\n",
       "      <td>69.47</td>\n",
       "      <td>5.465948</td>\n",
       "      <td>0</td>\n",
       "      <td>20</td>\n",
       "      <td>13</td>\n",
       "      <td>3</td>\n",
       "    </tr>\n",
       "    <tr>\n",
       "      <th>3</th>\n",
       "      <td>29</td>\n",
       "      <td>54806.18</td>\n",
       "      <td>74.15</td>\n",
       "      <td>5.504884</td>\n",
       "      <td>1</td>\n",
       "      <td>2</td>\n",
       "      <td>10</td>\n",
       "      <td>1</td>\n",
       "    </tr>\n",
       "    <tr>\n",
       "      <th>4</th>\n",
       "      <td>35</td>\n",
       "      <td>73889.99</td>\n",
       "      <td>68.37</td>\n",
       "      <td>5.418675</td>\n",
       "      <td>0</td>\n",
       "      <td>3</td>\n",
       "      <td>3</td>\n",
       "      <td>6</td>\n",
       "    </tr>\n",
       "  </tbody>\n",
       "</table>\n",
       "</div>"
      ],
      "text/plain": [
       "   Age  Area Income  Daily Time Spent on Site_sqrt  Daily Internet Usage_log  \\\n",
       "0   35     61833.90                          68.95                  5.545529   \n",
       "1   31     68441.85                          80.23                  5.266672   \n",
       "2   26     59785.94                          69.47                  5.465948   \n",
       "3   29     54806.18                          74.15                  5.504884   \n",
       "4   35     73889.99                          68.37                  5.418675   \n",
       "\n",
       "   Male  Hour  Day  Month  \n",
       "0     0     0   27      3  \n",
       "1     1     1    4      4  \n",
       "2     0    20   13      3  \n",
       "3     1     2   10      1  \n",
       "4     0     3    3      6  "
      ]
     },
     "execution_count": 11,
     "metadata": {},
     "output_type": "execute_result"
    }
   ],
   "source": [
    "# Features from Timestamp\n",
    "# Let's split up this timestamp and see if we can make it more usable\n",
    "\n",
    "hour = lambda x: datetime.strptime(x, \"%Y-%m-%d %H:%M:%S\" ).hour\n",
    "features['Hour'] = df['Timestamp'].map(hour)\n",
    "\n",
    "day = lambda x: datetime.strptime(x, \"%Y-%m-%d %H:%M:%S\" ).day\n",
    "features['Day'] = df['Timestamp'].map(day)\n",
    "\n",
    "month = lambda x: datetime.strptime(x, \"%Y-%m-%d %H:%M:%S\" ).month\n",
    "features['Month'] = df['Timestamp'].map(month)\n",
    "\n",
    "features.head()"
   ]
  },
  {
   "cell_type": "code",
   "execution_count": 12,
   "metadata": {},
   "outputs": [
    {
     "data": {
      "text/plain": [
       "<matplotlib.axes._subplots.AxesSubplot at 0x111738c88>"
      ]
     },
     "execution_count": 12,
     "metadata": {},
     "output_type": "execute_result"
    },
    {
     "data": {
      "image/png": "[encoded data removed]",
      "text/plain": [
       "<Figure size 432x288 with 2 Axes>"
      ]
     },
     "metadata": {},
     "output_type": "display_data"
    }
   ],
   "source": [
    "# Testing for multicollinearity\n",
    "\n",
    "sns.heatmap(features.corr())"
   ]
  },
  {
   "cell_type": "markdown",
   "metadata": {},
   "source": [
    "## Logistic Regression"
   ]
  },
  {
   "cell_type": "code",
   "execution_count": 14,
   "metadata": {},
   "outputs": [
    {
     "name": "stderr",
     "output_type": "stream",
     "text": [
      "/anaconda3/lib/python3.6/site-packages/ipykernel_launcher.py:17: RuntimeWarning: divide by zero encountered in long_scalars\n",
      "/anaconda3/lib/python3.6/site-packages/ipykernel_launcher.py:20: RuntimeWarning: divide by zero encountered in log\n"
     ]
    },
    {
     "data": {
      "image/png": "[encoded data removed]",
      "text/plain": [
       "<Figure size 432x288 with 1 Axes>"
      ]
     },
     "metadata": {},
     "output_type": "display_data"
    }
   ],
   "source": [
    "# Convert binary values into odds of getting y=1\n",
    "\n",
    "# continuous predictor\n",
    "x = features['Age']\n",
    "\n",
    "# binary outcome\n",
    "bin_y = df['Clicked on Ad']\n",
    "\n",
    "# Unique values in x\n",
    "xvals = x.unique()\n",
    "\n",
    "# Calculate and store the odds\n",
    "yodds = []\n",
    "for xi in xvals:\n",
    "    y1_ct = bin_y[x == xi].sum() # the number of trials where y = 1\n",
    "    y0_ct = len(bin_y[x == xi]) - y1_ct # the number of trials where y = 0\n",
    "    yodds.append(y1_ct / y0_ct) # odds of getting y = 1 for xi\n",
    "    \n",
    "# Natural log of the odds\n",
    "ln_yodds = np.log(yodds)\n",
    "\n",
    "# calculate linear regression for x and odds\n",
    "fit = np.polyfit(xvals, ln_yodds, 1)\n",
    "\n",
    "# works as a function to return the predicted value of yodds\n",
    "fit_fn = np.poly1d(fit)\n",
    "\n",
    "# display\n",
    "plt.plot(xvals, ln_yodds, 'yo', xvals, fit_fn(xvals), '--k')\n",
    "plt.xlabel('Continuous x')\n",
    "plt.ylabel('Log odds of y=1')\n",
    "plt.show()"
   ]
  },
  {
   "cell_type": "code",
   "execution_count": 16,
   "metadata": {},
   "outputs": [
    {
     "data": {
      "text/plain": [
       "array([-0.36290549, -1.18958407, -1.28785429, -0.69314718, -0.31845373,\n",
       "       -0.62415431,  2.7080502 , -0.36290549, -1.60943791,  2.83321334,\n",
       "       -0.33647224, -0.91629073,  0.78845736,  0.        ,  0.11122564,\n",
       "               inf, -0.9903987 , -0.47000363, -2.48490665,         inf,\n",
       "        2.19722458,  0.26826399,  0.45198512, -0.89794159, -1.74919985,\n",
       "        1.55814462,  2.19722458,  2.94443898,  2.48490665, -1.31218639,\n",
       "        1.2039728 ,  0.73396918,         inf,        -inf,         inf,\n",
       "               inf,  1.16315081,         inf,         inf,  1.60943791,\n",
       "       -1.60943791,         inf,         inf])"
      ]
     },
     "execution_count": 16,
     "metadata": {},
     "output_type": "execute_result"
    }
   ],
   "source": [
    "ln_yodds"
   ]
  },
  {
   "cell_type": "code",
   "execution_count": 22,
   "metadata": {},
   "outputs": [
    {
     "name": "stdout",
     "output_type": "stream",
     "text": [
      "Optimization terminated successfully.\n",
      "         Current function value: 0.087770\n",
      "         Iterations 10\n",
      "                           Logit Regression Results                           \n",
      "==============================================================================\n",
      "Dep. Variable:          Clicked on Ad   No. Observations:                 1000\n",
      "Model:                          Logit   Df Residuals:                      991\n",
      "Method:                           MLE   Df Model:                            8\n",
      "Date:                Sat, 26 Jan 2019   Pseudo R-squ.:                  0.8734\n",
      "Time:                        11:46:10   Log-Likelihood:                -87.770\n",
      "converged:                       True   LL-Null:                       -693.15\n",
      "                                        LLR p-value:                4.551e-256\n",
      "=================================================================================================\n",
      "                                    coef    std err          z      P>|z|      [0.025      0.975]\n",
      "-------------------------------------------------------------------------------------------------\n",
      "Age                               0.1625      0.026      6.314      0.000       0.112       0.213\n",
      "Area Income                      -0.0001   1.88e-05     -7.019      0.000      -0.000   -9.53e-05\n",
      "Daily Time Spent on Site_sqrt    -0.1916      0.021     -9.069      0.000      -0.233      -0.150\n",
      "Daily Internet Usage_log        -12.3823      1.363     -9.083      0.000     -15.054      -9.710\n",
      "Male                             -0.3932      0.414     -0.949      0.342      -1.205       0.418\n",
      "Hour                             -0.0137      0.031     -0.441      0.659      -0.074       0.047\n",
      "Day                              -0.0323      0.025     -1.290      0.197      -0.081       0.017\n",
      "Month                            -0.0045      0.105     -0.043      0.966      -0.211       0.202\n",
      "intercept                        80.6847      8.236      9.797      0.000      64.543      96.827\n",
      "=================================================================================================\n",
      "\n",
      "Possibly complete quasi-separation: A fraction 0.26 of observations can be\n",
      "perfectly predicted. This might indicate that there is complete\n",
      "quasi-separation. In this case some parameters will not be identified.\n"
     ]
    }
   ],
   "source": [
    "# Declare predictors\n",
    "X_statsmod = features[['Age', 'Area Income', 'Daily Time Spent on Site_sqrt',\n",
    "                      'Daily Internet Usage_log', 'Male', 'Hour', 'Day', 'Month']]\n",
    "\n",
    "# The statsmodels formulation requires a column with a constant value 1 that\n",
    "# will act as the intercept\n",
    "X_statsmod['intercept'] = 1\n",
    "\n",
    "# declare and fit the model\n",
    "logit = sm.Logit(df['Clicked on Ad'], X_statsmod)\n",
    "result = logit.fit()\n",
    "\n",
    "# Lots of information about the model and its coefficients, but no\n",
    "# accuracy rate for predictions is missing\n",
    "print(result.summary())"
   ]
  },
  {
   "cell_type": "code",
   "execution_count": 25,
   "metadata": {},
   "outputs": [
    {
     "name": "stdout",
     "output_type": "stream",
     "text": [
      "\n",
      " Accuracy by click success\n",
      "col_0            0    1\n",
      "Clicked on Ad          \n",
      "0              489   11\n",
      "1               20  480\n",
      "\n",
      " Percentage accuracy\n",
      "0.969\n"
     ]
    }
   ],
   "source": [
    "# calculate accuracy. first get probability that each row will be admitted\n",
    "pred_statsmod = result.predict(X_statsmod)\n",
    "\n",
    "# code admission of 1 as if probability is greater than .5\n",
    "pred_y_statsmod = np.where(pred_statsmod < .5, 0, 1)\n",
    "\n",
    "# accuracy table\n",
    "table = pd.crosstab(df['Clicked on Ad'], pred_y_statsmod)\n",
    "\n",
    "print('\\n Accuracy by click success')\n",
    "print(table)\n",
    "print('\\n Percentage accuracy')\n",
    "print((table.iloc[0,0] + table.iloc[1,1]) / (table.sum().sum()))"
   ]
  },
  {
   "cell_type": "code",
   "execution_count": 27,
   "metadata": {},
   "outputs": [
    {
     "name": "stdout",
     "output_type": "stream",
     "text": [
      "Coefficients\n",
      "[[ 2.27050414e-01 -4.59769011e-05 -1.08438313e-01  9.23330576e-02\n",
      "  -6.04111924e-03  3.22109210e-02  3.20347196e-02  9.53470356e-02]]\n",
      "[0.03333263]\n",
      "\n",
      " Accuracy by admission status\n",
      "Clicked on Ad    0    1\n",
      "row_0                  \n",
      "0              467   73\n",
      "1               33  427\n",
      "\n",
      " Percentage accuracy\n",
      "0.894\n"
     ]
    }
   ],
   "source": [
    "# logistic regression classifier (SKlearn)\n",
    "# parameter regularization coefficient c\n",
    "\n",
    "lr = LogisticRegression(C=1e50)\n",
    "X = features[['Age', 'Area Income', 'Daily Time Spent on Site_sqrt', \n",
    "              'Daily Internet Usage_log', 'Male', 'Hour', 'Day', 'Month']]\n",
    "y = df['Clicked on Ad']\n",
    "\n",
    "# fit the model\n",
    "fit = lr.fit(X, y)\n",
    "\n",
    "# Display\n",
    "print('Coefficients')\n",
    "print(fit.coef_)\n",
    "print(fit.intercept_)\n",
    "pred_y_sklearn = lr.predict(X)\n",
    "\n",
    "print('\\n Accuracy by admission status')\n",
    "print(pd.crosstab(pred_y_sklearn, y))\n",
    "\n",
    "print('\\n Percentage accuracy')\n",
    "print(lr.score(X, y))"
   ]
  },
  {
   "cell_type": "markdown",
   "metadata": {},
   "source": [
    "## Ridge Regression"
   ]
  },
  {
   "cell_type": "code",
   "execution_count": 28,
   "metadata": {},
   "outputs": [
    {
     "name": "stdout",
     "output_type": "stream",
     "text": [
      "0.8232104651753415\n",
      "0.009161978920063912\n"
     ]
    }
   ],
   "source": [
    "X_train = features[['Age', 'Area Income', 'Daily Time Spent on Site_sqrt', \n",
    "                    'Daily Internet Usage_log', 'Male', 'Hour', 'Day', 'Month']]\n",
    "Y_train = df['Clicked on Ad']\n",
    "\n",
    "# fitting a ridge regression model. alpha is the regularization\n",
    "# parameter (usually called lambda). as alpha gets larger, parameter\n",
    "# shrinkage grows more pronounced\n",
    "\n",
    "# by convention, the intercept is not regularized.\n",
    "# we did not standardize the data so the intercept is not equal to zero\n",
    "# and cannot be dropped\n",
    "\n",
    "ridgeregr = linear_model.Ridge(alpha=5)\n",
    "ridgeregr.fit(X_train, Y_train)\n",
    "print(ridgeregr.score(X_train, Y_train))\n",
    "origparams = ridgeregr.coef_[0]\n",
    "print(origparams)"
   ]
  },
  {
   "cell_type": "markdown",
   "metadata": {},
   "source": [
    "## Lasso Regression"
   ]
  },
  {
   "cell_type": "code",
   "execution_count": 29,
   "metadata": {},
   "outputs": [
    {
     "name": "stdout",
     "output_type": "stream",
     "text": [
      "R Squared:\n",
      "0.6724176543010172\n",
      "\n",
      "Parameter estimates:\n",
      "[ 9.49949749e-03 -1.01555504e-05 -1.75959572e-02 -0.00000000e+00\n",
      " -0.00000000e+00 -0.00000000e+00 -0.00000000e+00 -0.00000000e+00\n",
      "  1.86022861e+00]\n"
     ]
    }
   ],
   "source": [
    "lass = linear_model.Lasso(alpha=.4)\n",
    "lassfit = lass.fit(X_train, Y_train)\n",
    "print('R Squared:')\n",
    "print(lass.score(X_train, Y_train))\n",
    "origparamsL = np.append(lassfit.coef_, lassfit.intercept_)\n",
    "print('\\nParameter estimates:')\n",
    "print(origparamsL)"
   ]
  },
  {
   "cell_type": "markdown",
   "metadata": {},
   "source": [
    "## Conclusion"
   ]
  },
  {
   "cell_type": "markdown",
   "metadata": {},
   "source": [
    "I believe that in this particular instance, it' a toss up between vanilla logistic regression and ridge regression. The R^2 in both instances is in the 0.8 range, which gives me enough confidence that the model was not overfitting. Perhaps Lasso regression would be more appropriate if the data was a bit more complicated or part of a much larger set."
   ]
  }
 ],
 "metadata": {
  "kernelspec": {
   "display_name": "Python 3",
   "language": "python",
   "name": "python3"
  },
  "language_info": {
   "codemirror_mode": {
    "name": "ipython",
    "version": 3
   },
   "file_extension": ".py",
   "mimetype": "text/x-python",
   "name": "python",
   "nbconvert_exporter": "python",
   "pygments_lexer": "ipython3",
   "version": "3.6.8"
  }
 },
 "nbformat": 4,
 "nbformat_minor": 2
}

{
 "cells": [
  {
   "cell_type": "markdown",
   "metadata": {},
   "source": [
    "You're a statistics professor and the deadline for submitting your students' grades is tonight at midnight. Each student's grade is determined by their mean score across all of the tests they took this semester.\n",
    "\n",
    "You've decided to automate grade calculation by writing a function calculate_grade() that takes a list of test scores as an argument and returns a one character string representing the student's grade calculated as follows:\n",
    "\n",
    "90% <= mean score <= 100%: \"A\",\n",
    "80% <= mean score < 90%: \"B\",\n",
    "70% <= mean score < 80%: \"C\",\n",
    "60% <= mean score < 70%: \"D\",\n",
    "mean score < 60%: \"F\"\n",
    "For example, calculate_grade([92, 94, 99]) would return \"A\" since the mean score is 95, and calculate_grade([50, 60, 70, 80, 90]) would return \"C\" since the mean score is 70.\n",
    "\n",
    "Your function should handle an input list of any length."
   ]
  },
  {
   "cell_type": "code",
   "execution_count": 2,
   "metadata": {},
   "outputs": [],
   "source": [
    "def calculate_grade(scores):\n",
    "    for score in scores:\n",
    "        mean = sum(scores) / len(scores)\n",
    "    \n",
    "    if mean >= 90:\n",
    "        return \"A\"\n",
    "    elif mean >= 80:\n",
    "        return 'B'\n",
    "    elif mean >= 70:\n",
    "        return 'C'\n",
    "    elif mean >= 60:\n",
    "        return 'D'\n",
    "    else:\n",
    "        return 'F'"
   ]
  },
  {
   "cell_type": "code",
   "execution_count": null,
   "metadata": {},
   "outputs": [],
   "source": []
  }
 ],
 "metadata": {
  "kernelspec": {
   "display_name": "Python 3",
   "language": "python",
   "name": "python3"
  },
  "language_info": {
   "codemirror_mode": {
    "name": "ipython",
    "version": 3
   },
   "file_extension": ".py",
   "mimetype": "text/x-python",
   "name": "python",
   "nbconvert_exporter": "python",
   "pygments_lexer": "ipython3",
   "version": "3.6.5"
  }
 },
 "nbformat": 4,
 "nbformat_minor": 2
}

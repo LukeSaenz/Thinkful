{
 "cells": [
  {
   "cell_type": "markdown",
   "metadata": {},
   "source": [
    "You're playing a game with a friend involving a bag of marbles. In the bag are ten marbles:\n",
    "\n",
    "1 smooth red marble\n",
    "4 bumpy red marbles\n",
    "2 bumpy yellow marbles\n",
    "1 smooth yellow marble\n",
    "1 bumpy green marble\n",
    "1 smooth green marble\n",
    "You can see that the probability of picking a smooth red marble from the bag is 1 / 10 or 0.10 and the probability of picking a bumpy yellow marble is 2 / 10 or 0.20.\n",
    "\n",
    "The game works like this: your friend puts her hand in the bag, chooses a marble (without looking at it) and tells you whether it's bumpy or smooth. Then you have to guess which color it is before she pulls it out and reveals whether you're correct or not.\n",
    "\n",
    "You know that the information about whether the marble is bumpy or smooth changes the probability of what color it is, and you want some help with your guesses.\n",
    "\n",
    "Write a function color_probability() that takes two arguments: a color ('red', 'yellow', or 'green') and a texture ('bumpy' or 'smooth') and returns the probability as a decimal fraction accurate to two places.\n",
    "\n",
    "The probability should be a string and should discard any digits after the 100ths place. For example, 2 / 3 or 0.6666666666666666 would become the string '0.66'. Note this is different from rounding.\n",
    "\n",
    "As a complete example, color_probability('red', 'bumpy') should return the string '0.57'."
   ]
  },
  {
   "cell_type": "code",
   "execution_count": 1,
   "metadata": {},
   "outputs": [],
   "source": [
    "def color_probability(color, texture):\n",
    "    if color == 'green':\n",
    "        if texture == 'bumpy':\n",
    "            result = 1/7\n",
    "        else:\n",
    "            result = 1/3\n",
    "    elif color == 'yellow':\n",
    "        if texture == 'bumpy':\n",
    "            result = 2/7\n",
    "        else:\n",
    "            result = 1/3\n",
    "    else:\n",
    "        if texture == 'bumpy':\n",
    "            result = 4/7\n",
    "        else:\n",
    "            result = 1/3\n",
    "    return(str(result))[:4]"
   ]
  },
  {
   "cell_type": "code",
   "execution_count": null,
   "metadata": {},
   "outputs": [],
   "source": []
  }
 ],
 "metadata": {
  "kernelspec": {
   "display_name": "Python 3",
   "language": "python",
   "name": "python3"
  },
  "language_info": {
   "codemirror_mode": {
    "name": "ipython",
    "version": 3
   },
   "file_extension": ".py",
   "mimetype": "text/x-python",
   "name": "python",
   "nbconvert_exporter": "python",
   "pygments_lexer": "ipython3",
   "version": "3.6.5"
  }
 },
 "nbformat": 4,
 "nbformat_minor": 2
}

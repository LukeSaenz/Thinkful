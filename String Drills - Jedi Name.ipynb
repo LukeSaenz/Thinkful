{
 "cells": [
  {
   "cell_type": "markdown",
   "metadata": {},
   "source": [
    "You just took a contract with the Jedi council. They need you to write a function, greet_jedi(), which takes two arguments (a first name and a last name), works out the corresponding Jedi name, and returns a string greeting the Jedi.\n",
    "\n",
    "A person's Jedi name is the first three letters of their last name followed by the first two letters of their first name. For example:\n",
    "\n",
    ">>> greet_jedi('Beyonce', 'Knowles')\n",
    "'Greetings, master KnoBe'\n",
    "Note the capitalization: the first letter of each name is capitalized. Your input may or may not be capitalized. Your function should handle it and return the Jedi name in the correct case no matter what case the input is in:\n",
    "\n",
    ">>> greet_jedi('grae', 'drake')\n",
    "'Greetings, master DraGr'\n",
    "You can trust that your input names will always be at least three characters long.\n",
    "\n",
    "If you're stuck, check out the python.org tutorial section on strings and search \"slice\"."
   ]
  },
  {
   "cell_type": "code",
   "execution_count": null,
   "metadata": {},
   "outputs": [],
   "source": [
    "def greet_jedi(first, last):\n",
    "    return 'Greetings, master ' + last[0:3].capitalize() + first[0:2].capitalize()"
   ]
  }
 ],
 "metadata": {
  "kernelspec": {
   "display_name": "Python 3",
   "language": "python",
   "name": "python3"
  },
  "language_info": {
   "codemirror_mode": {
    "name": "ipython",
    "version": 3
   },
   "file_extension": ".py",
   "mimetype": "text/x-python",
   "name": "python",
   "nbconvert_exporter": "python",
   "pygments_lexer": "ipython3",
   "version": "3.6.5"
  }
 },
 "nbformat": 4,
 "nbformat_minor": 2
}
